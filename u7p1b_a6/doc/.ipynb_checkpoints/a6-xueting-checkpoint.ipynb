{
 "cells": [
  {
   "cell_type": "markdown",
   "metadata": {},
   "source": [
    "# CPSC 340 Assignment 6"
   ]
  },
  {
   "cell_type": "code",
   "execution_count": 2,
   "metadata": {
    "collapsed": true
   },
   "outputs": [],
   "source": [
    "import os\n",
    "import numpy as np\n",
    "import pandas as pd\n",
    "import matplotlib.pyplot as plt\n",
    "%matplotlib inline\n",
    "\n",
    "from scipy.sparse import csr_matrix as sparse_matrix\n",
    "\n",
    "from sklearn.neighbors import NearestNeighbors\n",
    "from sklearn.decomposition import TruncatedSVD"
   ]
  },
  {
   "cell_type": "markdown",
   "metadata": {},
   "source": [
    "## Instructions\n",
    "rubric={mechanics:5}\n",
    "\n",
    "\n",
    "The above points are allocated for following the [homework submission instructions](https://github.ugrad.cs.ubc.ca/CPSC340-2017W-T2/home/blob/master/homework_instructions.md)."
   ]
  },
  {
   "cell_type": "markdown",
   "metadata": {},
   "source": [
    "## Exercise 1: Finding similar items\n",
    "\n",
    "For this question we'll be using the [Amazon product data set](http://jmcauley.ucsd.edu/data/amazon/). The author of the data set has asked for the following citations:\n",
    "\n",
    "> Ups and downs: Modeling the visual evolution of fashion trends with one-class collaborative filtering.\n",
    "> R. He, J. McAuley.\n",
    "> WWW, 2016.\n",
    "> \n",
    "> Image-based recommendations on styles and substitutes.\n",
    "> J. McAuley, C. Targett, J. Shi, A. van den Hengel.\n",
    "> SIGIR, 2015.\n",
    "\n",
    "We will focus on the \"Patio, Lawn, and Garden\" section. Download the [ratings](http://snap.stanford.edu/data/amazon/productGraph/categoryFiles/ratings_Patio_Lawn_and_Garden.csv) and place the file in the `data` directory with the original filename. Once you do that, the code below should load the data:"
   ]
  },
  {
   "cell_type": "code",
   "execution_count": 3,
   "metadata": {},
   "outputs": [
    {
     "data": {
      "text/html": [
       "<div>\n",
       "<style>\n",
       "    .dataframe thead tr:only-child th {\n",
       "        text-align: right;\n",
       "    }\n",
       "\n",
       "    .dataframe thead th {\n",
       "        text-align: left;\n",
       "    }\n",
       "\n",
       "    .dataframe tbody tr th {\n",
       "        vertical-align: top;\n",
       "    }\n",
       "</style>\n",
       "<table border=\"1\" class=\"dataframe\">\n",
       "  <thead>\n",
       "    <tr style=\"text-align: right;\">\n",
       "      <th></th>\n",
       "      <th>user</th>\n",
       "      <th>item</th>\n",
       "      <th>rating</th>\n",
       "      <th>timestamp</th>\n",
       "    </tr>\n",
       "  </thead>\n",
       "  <tbody>\n",
       "    <tr>\n",
       "      <th>0</th>\n",
       "      <td>A2VNYWOPJ13AFP</td>\n",
       "      <td>0981850006</td>\n",
       "      <td>5.0</td>\n",
       "      <td>1259798400</td>\n",
       "    </tr>\n",
       "    <tr>\n",
       "      <th>1</th>\n",
       "      <td>A20DWVV8HML3AW</td>\n",
       "      <td>0981850006</td>\n",
       "      <td>5.0</td>\n",
       "      <td>1371081600</td>\n",
       "    </tr>\n",
       "    <tr>\n",
       "      <th>2</th>\n",
       "      <td>A3RVP3YBYYOPRH</td>\n",
       "      <td>0981850006</td>\n",
       "      <td>5.0</td>\n",
       "      <td>1257984000</td>\n",
       "    </tr>\n",
       "    <tr>\n",
       "      <th>3</th>\n",
       "      <td>A28XY55TP3Q90O</td>\n",
       "      <td>0981850006</td>\n",
       "      <td>5.0</td>\n",
       "      <td>1314144000</td>\n",
       "    </tr>\n",
       "    <tr>\n",
       "      <th>4</th>\n",
       "      <td>A3VZW1BGUQO0V3</td>\n",
       "      <td>0981850006</td>\n",
       "      <td>5.0</td>\n",
       "      <td>1308268800</td>\n",
       "    </tr>\n",
       "  </tbody>\n",
       "</table>\n",
       "</div>"
      ],
      "text/plain": [
       "             user        item  rating   timestamp\n",
       "0  A2VNYWOPJ13AFP  0981850006     5.0  1259798400\n",
       "1  A20DWVV8HML3AW  0981850006     5.0  1371081600\n",
       "2  A3RVP3YBYYOPRH  0981850006     5.0  1257984000\n",
       "3  A28XY55TP3Q90O  0981850006     5.0  1314144000\n",
       "4  A3VZW1BGUQO0V3  0981850006     5.0  1308268800"
      ]
     },
     "execution_count": 3,
     "metadata": {},
     "output_type": "execute_result"
    }
   ],
   "source": [
    "filename = \"ratings_Patio_Lawn_and_Garden.csv\"\n",
    "\n",
    "with open(os.path.join(\"..\", \"data\", filename), \"rb\") as f:\n",
    "    ratings = pd.read_csv(f,names=(\"user\",\"item\",\"rating\",\"timestamp\"))\n",
    "ratings.head()"
   ]
  },
  {
   "cell_type": "markdown",
   "metadata": {},
   "source": [
    "We'd also like to construct the user-product matrix `X`. Let's see how big it would be:"
   ]
  },
  {
   "cell_type": "code",
   "execution_count": 4,
   "metadata": {},
   "outputs": [
    {
     "name": "stdout",
     "output_type": "stream",
     "text": [
      "Number of ratings: 993490\n",
      "The average rating: 4.006400668350965\n",
      "Number of users: 714791\n",
      "Number of items: 105984\n",
      "Fraction nonzero: 1.3114269915944552e-05\n",
      "Size of full X matrix: 606.05 GB\n"
     ]
    }
   ],
   "source": [
    "def get_stats(ratings, item_key=\"item\", user_key=\"user\"):\n",
    "    print(\"Number of ratings:\", len(ratings))\n",
    "    print(\"The average rating:\", np.mean(ratings[\"rating\"]))\n",
    "\n",
    "    d = len(set(ratings[item_key]))\n",
    "    n = len(set(ratings[user_key]))\n",
    "    print(\"Number of users:\", n)\n",
    "    print(\"Number of items:\", d)\n",
    "    print(\"Fraction nonzero:\", len(ratings)/(n*d))\n",
    "    print(\"Size of full X matrix: %.2f GB\" % ((n*d)*8/1e9))\n",
    "\n",
    "    return n,d\n",
    "\n",
    "n,d = get_stats(ratings)"
   ]
  },
  {
   "cell_type": "markdown",
   "metadata": {},
   "source": [
    "600 GB! That is way too big. We don't want to create that matrix. On the other hand, we see that we only have about 1 million ratings, which would be around 8 MB ($10^6$ numbers $\\times$ at 8 bytes per double precision floating point number). Much more manageable. "
   ]
  },
  {
   "cell_type": "code",
   "execution_count": 5,
   "metadata": {
    "collapsed": true
   },
   "outputs": [],
   "source": [
    "def create_X(ratings,n,d,user_key=\"user\",item_key=\"item\"):\n",
    "    user_mapper = dict(zip(np.unique(ratings[user_key]), list(range(n))))\n",
    "    item_mapper = dict(zip(np.unique(ratings[item_key]), list(range(d))))\n",
    "\n",
    "    user_inverse_mapper = dict(zip(list(range(n)), np.unique(ratings[user_key])))\n",
    "    item_inverse_mapper = dict(zip(list(range(d)), np.unique(ratings[item_key])))\n",
    "\n",
    "    user_ind = [user_mapper[i] for i in ratings[user_key]]\n",
    "    item_ind = [item_mapper[i] for i in ratings[item_key]]\n",
    "\n",
    "    X = sparse_matrix((ratings[\"rating\"], (user_ind, item_ind)), shape=(n,d))\n",
    "    \n",
    "    return X, user_mapper, item_mapper, user_inverse_mapper, item_inverse_mapper, user_ind, item_ind\n",
    "\n",
    "X, user_mapper, item_mapper, user_inverse_mapper, item_inverse_mapper, user_ind, item_ind = create_X(ratings, n, d)"
   ]
  },
  {
   "cell_type": "code",
   "execution_count": 6,
   "metadata": {},
   "outputs": [
    {
     "name": "stdout",
     "output_type": "stream",
     "text": [
      "(714791, 105984)\n",
      "993490\n"
     ]
    }
   ],
   "source": [
    "# sanity check\n",
    "print(X.shape) # should be number of users by number of items\n",
    "print(X.nnz)   # number of nonzero elements -- should equal number of ratings"
   ]
  },
  {
   "cell_type": "code",
   "execution_count": 7,
   "metadata": {},
   "outputs": [
    {
     "data": {
      "text/plain": [
       "7947920"
      ]
     },
     "execution_count": 7,
     "metadata": {},
     "output_type": "execute_result"
    }
   ],
   "source": [
    "X.data.nbytes"
   ]
  },
  {
   "cell_type": "markdown",
   "metadata": {},
   "source": [
    "(Above: verifying our estimate of 8 MB to store sparse `X`)"
   ]
  },
  {
   "cell_type": "markdown",
   "metadata": {},
   "source": [
    "### 1.1\n",
    "rubric={reasoning:2}\n",
    "\n",
    "Find the following items:\n",
    "\n",
    "1. the item with the most reviews\n",
    "2. the item with the most total stars\n",
    "3. the item with the highest average stars\n",
    "\n",
    "Then, find the names of these items by looking them up with the url https://www.amazon.com/dp/ITEM_ID, where `ITEM_ID` is the id of the item."
   ]
  },
  {
   "cell_type": "code",
   "execution_count": 8,
   "metadata": {},
   "outputs": [
    {
     "name": "stdout",
     "output_type": "stream",
     "text": [
      "https://www.amazon.com/dp/B00CFM0P7Y\n"
     ]
    }
   ],
   "source": [
    "url_amazon = \"https://www.amazon.com/dp/%s\"\n",
    "\n",
    "# example:\n",
    "print(url_amazon % 'B00CFM0P7Y')"
   ]
  },
  {
   "cell_type": "code",
   "execution_count": 9,
   "metadata": {},
   "outputs": [
    {
     "name": "stdout",
     "output_type": "stream",
     "text": [
      "the item with the most reviews:Classic Accessories 73942 Veranda Grill Cover\n",
      "https://www.amazon.com/dp/B000HCLLMM\n",
      "the item with the most total stars:Classic Accessories 73942 Veranda Grill Cover\n",
      "https://www.amazon.com/dp/B000HCLLMM\n",
      "the item with the highest average stars:Primal Grill with Steven Raichlen, Volume One DVD\n",
      "https://www.amazon.com/dp/0981850006\n"
     ]
    },
    {
     "data": {
      "text/plain": [
       "array([ 35.,  11.,  10., ...,  30.,  25.,  25.])"
      ]
     },
     "execution_count": 9,
     "metadata": {},
     "output_type": "execute_result"
    }
   ],
   "source": [
    "### YOUR CODE HERE ###\n",
    "# 1.1\n",
    "# the item with most reviews\n",
    "\n",
    "from collections import Counter\n",
    "\n",
    "user,item = X.nonzero()\n",
    "N = len(user)\n",
    "Nreview_item = Counter(item).most_common()\n",
    "MaxReview = Nreview_item[0]\n",
    "\n",
    "print(\"the item with the most reviews:Classic Accessories 73942 Veranda Grill Cover\")\n",
    "print(url_amazon % item_inverse_mapper[MaxReview[0]])\n",
    "\n",
    "# the item with the most total stars\n",
    "# the item with the highest average stars\n",
    "sumstars = np.zeros(d)\n",
    "mean = np.zeros(d)\n",
    "\n",
    "for i in range(d):\n",
    "    tt = X[:,i].nonzero()\n",
    "    ttemp = X[ tt[0],i ]\n",
    "    sumstars[i] = np.sum(ttemp)\n",
    "    mean[i] = sumstars[i]/ len(tt[0])\n",
    "  \n",
    "# MaxTotal = Nreview_item [ np.argmax(temp) ][0]\n",
    "MaxTotal = np.argmax(sumstars)\n",
    "print(\"the item with the most total stars:Classic Accessories 73942 Veranda Grill Cover\")\n",
    "print(url_amazon % item_inverse_mapper[MaxTotal])\n",
    "\n",
    "\n",
    "MaxMean = np.argmax(mean)\n",
    "print(\"the item with the highest average stars:Primal Grill with Steven Raichlen, Volume One DVD\")\n",
    "print(url_amazon % item_inverse_mapper[MaxMean])\n",
    "\n",
    "# save the sumstars matrix \n",
    "from tempfile import TemporaryFile\n",
    "outfile = TemporaryFile()\n",
    "np.save(outfile, sumstars)\n",
    "outfile.seek(0) # Only needed here to simulate closing & reopening file\n",
    "np.load(outfile)"
   ]
  },
  {
   "cell_type": "markdown",
   "metadata": {},
   "source": [
    "### 1.2\n",
    "rubric={reasoning:2}"
   ]
  },
  {
   "cell_type": "markdown",
   "metadata": {},
   "source": [
    "Make the following histograms \n",
    "\n",
    "1. The number of ratings per user\n",
    "2. The number of ratings per item\n",
    "3. The ratings themselves\n",
    "\n",
    "For the first two, use\n",
    "```\n",
    "plt.yscale('log', nonposy='clip')\n",
    "``` \n",
    "to put the histograms on a log-scale."
   ]
  },
  {
   "cell_type": "code",
   "execution_count": 10,
   "metadata": {},
   "outputs": [
    {
     "name": "stdout",
     "output_type": "stream",
     "text": [
      "Figure saved as '..\\figs\\The number of ratings per user.png'\n",
      "Figure saved as '..\\figs\\The number of ratings per item.png'\n",
      "Figure saved as '..\\figs\\The number of of that rating.png'\n"
     ]
    },
    {
     "data": {
      "image/png": "[encoded data removed]",
      "text/plain": [
       "<matplotlib.figure.Figure at 0xcaacf98>"
      ]
     },
     "metadata": {},
     "output_type": "display_data"
    },
    {
     "data": {
      "image/png": "[encoded data removed]",
      "text/plain": [
       "<matplotlib.figure.Figure at 0x21cdd8d0>"
      ]
     },
     "metadata": {},
     "output_type": "display_data"
    },
    {
     "data": {
      "image/png": "[encoded data removed]",
      "text/plain": [
       "<matplotlib.figure.Figure at 0x21c81f28>"
      ]
     },
     "metadata": {},
     "output_type": "display_data"
    }
   ],
   "source": [
    "### YOUR CODE HERE ###\n",
    "user,item = X.nonzero()\n",
    "N = len(user)\n",
    "Nreview_item = Counter(item).most_common()\n",
    "Nreview_user = Counter(user).most_common()\n",
    "\n",
    "\n",
    "FIGS_DIR = 'figs'\n",
    "def savefig(fname, verbose=True):\n",
    "    path = os.path.join('..', FIGS_DIR, fname)\n",
    "    plt.savefig(path)\n",
    "    if verbose:\n",
    "        print(\"Figure saved as '{}'\".format(path))\n",
    "\n",
    "\n",
    "fig = plt.figure()\n",
    "plt.hist( user )\n",
    "plt.yscale('log', nonposy='clip')\n",
    "plt.title(\"The number of ratings per user\")\n",
    "plt.xlabel(\"user\")\n",
    "plt.ylabel(\"The number of ratings\")\n",
    "savefig('The number of ratings per user.png' )\n",
    "\n",
    "fig = plt.figure()\n",
    "plt.hist( item )\n",
    "plt.yscale('log', nonposy='clip')\n",
    "plt.title(\"The number of ratings per item\")\n",
    "plt.xlabel(\"item\")\n",
    "plt.ylabel(\"The number of ratings\")\n",
    "savefig('The number of ratings per item.png' )\n",
    "\n",
    "Rat = X[user,item]\n",
    "Rat_array = np.squeeze(np.asarray(Rat)) # transform a matrix into array\n",
    "Ratings = Rat_array.astype(int) # transform a float array into int array\n",
    "fig = plt.figure()\n",
    "plt.hist( Ratings )\n",
    "plt.title(\"The number of different ratings\")\n",
    "plt.xlabel(\"rating\")\n",
    "plt.ylabel(\"The number of that rating\")\n",
    "savefig('The number of of that rating.png' )\n",
    "\n"
   ]
  },
  {
   "cell_type": "markdown",
   "metadata": {},
   "source": [
    "### 1.3\n",
    "rubric={reasoning:1}\n",
    "\n",
    "Use scikit-learn's [NearestNeighbors](http://scikit-learn.org/stable/modules/generated/sklearn.neighbors.NearestNeighbors.html) object (which uses Euclidean distance by default) to find the 5 items most similar to [Brass Grill Brush 18 Inch Heavy Duty and Extra Strong, Solid Oak Handle](https://www.amazon.com/dp/B00CFM0P7Y). \n",
    "\n",
    "The code block below grabs the column of `X` associated with the grill brush. The mappers take care of going back and forther between the IDs (like `B00CFM0P7Y`) and the indices of the sparse array (0,1,2,...).\n",
    "\n",
    "Note: keep in mind that `NearestNeighbors` is for taking neighbors across rows, but here we're working across columns."
   ]
  },
  {
   "cell_type": "code",
   "execution_count": 11,
   "metadata": {},
   "outputs": [
    {
     "name": "stdout",
     "output_type": "stream",
     "text": [
      "https://www.amazon.com/dp/B00CFM0P7Y\n"
     ]
    }
   ],
   "source": [
    "grill_brush = \"B00CFM0P7Y\"\n",
    "grill_brush_ind = item_mapper[grill_brush]\n",
    "grill_brush_vec = X[:,grill_brush_ind]\n",
    "\n",
    "print(url_amazon % grill_brush)"
   ]
  },
  {
   "cell_type": "code",
   "execution_count": 12,
   "metadata": {},
   "outputs": [
    {
     "name": "stdout",
     "output_type": "stream",
     "text": [
      "ind the 5 items most similar to Brass Grill Brush are:\n",
      "https://www.amazon.com/dp/B00CFM0P7Y\n",
      "https://www.amazon.com/dp/B00IJB5MCS\n",
      "https://www.amazon.com/dp/B00IJB4MLA\n",
      "https://www.amazon.com/dp/B00EXE4O42\n",
      "https://www.amazon.com/dp/B00743MZCM\n",
      "https://www.amazon.com/dp/B00HVXQY9A\n",
      "The first one is the grill brush itself. To find 5 items most similar to this grill brush, we need to set 'n_neighbour = 6'\n"
     ]
    }
   ],
   "source": [
    "### YOUR CODE HERE ###\n",
    "Xtranspose = np.transpose(X)\n",
    "\n",
    "\n",
    "neigh = NearestNeighbors(n_neighbors=6).fit(Xtranspose)\n",
    "distances, indices = neigh.kneighbors(np.transpose(grill_brush_vec))\n",
    "\n",
    "print(\"ind the 5 items most similar to Brass Grill Brush are:\")  \n",
    "for i in range(6):\n",
    "    print(url_amazon % item_inverse_mapper[indices[0][i]])\n",
    "    \n",
    "print(\"The first one is the grill brush itself. To find 5 items most similar to this grill brush, we need to set 'n_neighbour = 6'\")\n",
    "    "
   ]
  },
  {
   "cell_type": "markdown",
   "metadata": {},
   "source": [
    "The items which are most similar to Brass Grill Brush are:\n",
    "1. Mr Grill - 18\" Luxury Oak Barbecue Spatula / Turner\n",
    "2. GrillHogs Basting Mop with Replacement Head, 18 Inch Handle with Machine Washable Heads\n",
    "3. Syndicate Sales 9 1/2\" Catalina Bowl, Black\n",
    "4. and 5. are not found by the website.\n",
    "\n",
    "We can find some patterns. They are all related to barbecue。"
   ]
  },
  {
   "cell_type": "markdown",
   "metadata": {},
   "source": [
    "### 1.4\n",
    "rubric={reasoning:1}\n",
    "\n",
    "Using cosine similarity instead of Euclidean distance in `NearestNeighbors`, find the 5 products most similar to `B00CFM0P7Y`.\n",
    "\n",
    "Same as before, The first one is the grill brush itself. \n",
    "\n",
    "To find 5 items most similar to this grill brush, we need to set 'n_neighbour = 6'.\n",
    "    "
   ]
  },
  {
   "cell_type": "code",
   "execution_count": 13,
   "metadata": {},
   "outputs": [
    {
     "name": "stdout",
     "output_type": "stream",
     "text": [
      "ind the 5 items most similar to Brass Grill Brush are:\n",
      "https://www.amazon.com/dp/B00CFM0P7Y\n",
      "https://www.amazon.com/dp/B00IJB5MCS\n",
      "https://www.amazon.com/dp/B00IJB8F3G\n",
      "https://www.amazon.com/dp/B00IJB4MLA\n",
      "https://www.amazon.com/dp/B00EF45AHU\n",
      "https://www.amazon.com/dp/B00EF3YF0Y\n"
     ]
    }
   ],
   "source": [
    "### YOUR CODE HERE ###\n",
    "neigh = NearestNeighbors(n_neighbors=6,metric = 'cosine').fit(Xtranspose)\n",
    "Cosdistances, Cosindices = neigh.kneighbors(np.transpose(grill_brush_vec))\n",
    "\n",
    "print(\"ind the 5 items most similar to Brass Grill Brush are:\")  \n",
    "for i in range(6):\n",
    "    print(url_amazon % item_inverse_mapper[Cosindices[0][i]])\n"
   ]
  },
  {
   "cell_type": "markdown",
   "metadata": {},
   "source": [
    "The items which are most similar to Brass Grill Brush are:\n",
    "1. Mr Grill - 18\" Luxury Oak Barbecue Spatula / Turner\n",
    "2. GrillHogs Luxury Barbecue Grill Tongs 16 Inch, Oak and Stainless Steel\n",
    "3. GrillHogs Basting Mop with Replacement Head, 18 Inch Handle with Machine Washable Heads\n",
    "4. GrillHogs Marinade Injector Stainless Steel with 3 Marinade Needles\n",
    "5. Mr Grill Silicone Oven Gloves Heat Resistant to 425°F / 218°C - Slip Resistant - Unlined and Dishwasher Washable\n",
    "\n",
    "We can find some patterns. They are all related to barbecue.\n",
    "In addition, plus the Brass Grill Brush, there are 4 items for GrillHoga, and 2 items from Mr.Grill."
   ]
  },
  {
   "cell_type": "markdown",
   "metadata": {},
   "source": [
    "### 1.5\n",
    "rubric={reasoning:2}\n",
    "\n",
    "For each of the two metrics, compute the compute the total popularity (total stars) of each of the 5 items and report it. Do the results make sense given what we discussed in class about Euclidean distance vs. cosine similarity? \n"
   ]
  },
  {
   "cell_type": "code",
   "execution_count": 14,
   "metadata": {},
   "outputs": [
    {
     "name": "stdout",
     "output_type": "stream",
     "text": [
      "the total popularity (total stars) of each of the 5 items(except the Brass Grill Brush itself) are:\n",
      "Euclidean distance 486.0\n",
      "Cosine similarity 1733.0\n"
     ]
    }
   ],
   "source": [
    "### YOUR CODE HERE ###\n",
    "EuclidStar = 0\n",
    "CosStar = 0\n",
    "for i in range(5):\n",
    "    Eu = X[ :,indices[0][i+1] ].data\n",
    "    EuclidStar = EuclidStar + sum(Eu)\n",
    "    Cos = X[ :,Cosindices[0][i+1] ].data\n",
    "    CosStar = CosStar + sum(Cos)\n",
    "    \n",
    "print(\"the total popularity (total stars) of each of the 5 items(except the Brass Grill Brush itself) are:\")\n",
    "print(\"Euclidean distance\", EuclidStar)\n",
    "print(\"Cosine similarity\", CosStar)"
   ]
  },
  {
   "cell_type": "markdown",
   "metadata": {},
   "source": [
    "\n",
    "From the results, the total stars of cosine similarity is much larger than Euclidean distance.\n",
    "\n",
    "Cosine similarity measures the angle between vectors (thus not taking into regard their weight or magnitude),\n",
    "while Euclidean distance measures the distance.\n",
    "\n",
    "When the magnitude of the vectors does not matter, Cosine similarity makes more sense, like text data represented by word counts. If a word occurs more times in essay 'A' only because essay 'A' has a longer length, cosine similarity will correct this.\n",
    "\n"
   ]
  },
  {
   "cell_type": "markdown",
   "metadata": {},
   "source": [
    "### 1.6\n",
    "rubric={reasoning:3}\n",
    "\n",
    "PCA gives us an approximation $X \\approx ZW$ where the rows of $Z$ contain a length-$k$ latent feature vectors for each user and the columns of $W$ contain a length-$k$ latent feature vectors for each item.\n",
    "\n",
    "Another strategy for finding similar items is to run PCA and then search for nearest neighbours with Euclidean distance in the latent feature space, which is hopefully more meaningful than the original \"user rating space\". In other words, we run nearest neighbors on the columns of $W$. Using $k=10$ and scikit-learn's [TruncatedSVD](http://scikit-learn.org/stable/modules/generated/sklearn.decomposition.TruncatedSVD.html) to perform the dimensionality reduction, find the 5 nearest neighbours to the grill brush using this method. You can access $W$ via the `components_` field of the `TruncatedSVD` object, after you fit it to the data. \n",
    "\n",
    "Briefly comment on your results.\n",
    "\n",
    "Implementation note: when you call on `NearestNeighbors.kneighbors`, it expects the input to be a 2D array. There's some weirdness here because `X` is a scipy sparse matrix but your `W` will be a dense matrix, and they behave differently in subtle ways. If you get an error like \"Expected 2D array, got 1D array instead\" then this is your problem: a column of `W` is technically a 1D array but a column of `X` has dimension $1\\times n$, which is technically a 2D array. You can take a 1D numpy array and add an extra first dimension to it with `array[None]`.\n",
    "\n",
    "Conceptual note 1: We are using the \"truncated\" rather than full SVD since a full SVD would involve dense $d\\times d$ matrices, which we've already established are too big to deal with. And then we'd only use the first $k$ rows of it anyway. So a full SVD would be both impossible and pointless.\n",
    "\n",
    "Conceptual note 2: as discussed in class, there is a problem here, which is that we're not ignoring the missing entries. You could get around this by optimizing the PCA objective with gradient descent, say using `findMin` from previous assignments. But we're just going to ignore that for now, as the assignment seems long enough as it is (or at least it's hard for me to judge how long it will take because it's new)."
   ]
  },
  {
   "cell_type": "code",
   "execution_count": 15,
   "metadata": {},
   "outputs": [
    {
     "name": "stdout",
     "output_type": "stream",
     "text": [
      "The 5 items most similar to Brass Grill Brush are:\n",
      "https://www.amazon.com/dp/B00CFM0P7Y\n",
      "https://www.amazon.com/dp/B000MVLB8W\n",
      "https://www.amazon.com/dp/B000H1SJ8C\n",
      "https://www.amazon.com/dp/B001VNC3Q4\n",
      "https://www.amazon.com/dp/B000X9BNG8\n",
      "https://www.amazon.com/dp/B001H1NG1Q\n"
     ]
    }
   ],
   "source": [
    "### YOUR CODE HERE ###\n",
    "\n",
    "# dimensionality reduction\n",
    "\n",
    "svd = TruncatedSVD(n_components=10)\n",
    "svd.fit(X)\n",
    "W = svd.fit(X).components_\n",
    "\n",
    "# we run nearest neighbors on the columns of  W\n",
    "\n",
    "Wt = np.transpose(W)\n",
    "neigh = NearestNeighbors(n_neighbors=6).fit(Wt)\n",
    "\n",
    "# find the correponding reduction of Grill Brush\n",
    "\n",
    "grill_brush = \"B00CFM0P7Y\"\n",
    "grill_brush_ind = item_mapper[grill_brush]\n",
    "Rgrill_brush_vec = W[:,grill_brush_ind]\n",
    "tt = Rgrill_brush_vec.reshape(-1, 1)\n",
    "\n",
    "Rdistances, Rindices = neigh.kneighbors(np.transpose(tt))\n",
    "\n",
    "print(\"The 5 items most similar to Brass Grill Brush are:\")  \n",
    "for i in range(6):\n",
    "    print(url_amazon % item_inverse_mapper[Rindices[0][i]])\n"
   ]
  },
  {
   "cell_type": "markdown",
   "metadata": {},
   "source": [
    "The items which are most similar to Brass Grill Brush are:\n",
    "1. Weber 6417 All-Purpose Summit Drip Pan, 10-Pack\n",
    "2. Weber 3741001 Genesis E-310 Propane Gas Grill, Black\n",
    "3. Classic Accessories Veranda Fire Pit Cover, X-Large, Standing\n",
    "4. Classic Accessories Patio Large BBQ Grill Cover\n",
    "5. Classic Accessories Terrazzo Rectangular/Oval Patio Table Cover - All Weather Protection Outdoor Furniture Cover (58242-EC)\n",
    "\n",
    "We can find some patterns. They are all related to barbecue. \n",
    "\n",
    "However, these 5 items are not directly related to the process of grilling, like the cook tools in previous results. Thay are related items about barbecue in a more broad view. \n",
    "\n",
    "In my opinion, searching for nearest neighbours with Euclidean distance in the latent feature space maybe more practical. Since for a certain user, once he bought one cook tool for grilling meat, he may need other items for BBQ, like Grill cover or Drip pan, instead of buying kinds of cook tools for BBQ.\n"
   ]
  },
  {
   "cell_type": "markdown",
   "metadata": {},
   "source": [
    "## Exercise 2: putting it all together in a CPSC 340 \"mini-project\"\n",
    "rubric={reasoning:25}\n",
    "\n",
    "In this open-ended mini-project, you'll explore the [UCI default of credit card clients data set](https://archive.ics.uci.edu/ml/datasets/default+of+credit+card+clients). There are 30,000 examples and 24 features, and the goal is to estimate whether a person will default (fail to pay) their credit card bills; this column is labeled \"default payment next month\" in the data. The rest of the columns can be used as features. \n",
    "\n",
    "\n",
    "\n",
    "**Your tasks:**\n",
    "\n",
    "1. Download the data set and load it in. Since the data comes as an MS Excel file, I suggest using [`pandas.read_excel`](https://pandas.pydata.org/pandas-docs/stable/generated/pandas.read_excel.html) to read it in. See [Lecture 2](https://github.ugrad.cs.ubc.ca/CPSC340-2017W-T2/home/blob/master/lectures/L2.ipynb) for an example of using pandas.\n",
    "2. Perform exploratory data analysis on the data set. Include at least two summary statistics and two visualizations that you find useful, and accompany each one with a sentence explaining it.\n",
    "3. Randomly split the data into train, validation, test sets. The validation set will be used for your experiments. The test set should be saved until the end, to make sure you didn't overfit on the validation set. You are welcome to use scikit-learn's [train_test_split](http://scikit-learn.org/stable/modules/generated/sklearn.model_selection.train_test_split.html), which takes care of both shuffling and splitting. \n",
    "4. Try scikit-learn's [DummyClassifier](http://scikit-learn.org/stable/modules/generated/sklearn.dummy.DummyClassifier.html) as a baseline model.\n",
    "5. Try logistic regression as a first real attempt. Make a plot of train/validation error vs. regularization strength. What’s the lowest validation error you can get?\n",
    "6. Explore the features, which are described on the UCI site. Explore preprocessing the features, in terms of transforming non-numerical variables, feature scaling, change of basis, etc. Did this improve your results?\n",
    "7. Try 3 other models aside from logistic regression, at least one of which is a neural network. Can you beat logistic regression? (For the neural net(s), the simplest choice would probably be to use scikit-learn's [MLPClassifier](http://scikit-learn.org/stable/modules/generated/sklearn.neural_network.MLPClassifier.html), but you are welcome to use any software you wish. )\n",
    "8. Make some attempts to optimize hyperparameters for the models you've tried and summarize your results. In at least one case you should be optimizing multiple hyperparameters for a single model. I won't make it a strict requirement, but I recommend checking out one of the following (the first two are simple scikit-learn tools, the latter two are much more sophisticated algorithms and require installing new packages): \n",
    "  - [GridSearchCV](http://scikit-learn.org/stable/modules/generated/sklearn.model_selection.GridSearchCV.html)   \n",
    "  - [RandomizedSearchCV](http://scikit-learn.org/stable/modules/generated/sklearn.model_selection.RandomizedSearchCV.html)\n",
    "  - [hyperopt-sklearn](https://github.com/hyperopt/hyperopt-sklearn)\n",
    "  - [scikit-optimize](https://github.com/scikit-optimize/scikit-optimize)\n",
    "9. Explore feature selection for this problem. What are some particularly relevant and irrelevant features? Can you improve on your original logistic regression model if you first remove some irrelevant features?\n",
    "10. Take your best model overall. Train it on the combined train/validation set and run it on the test set once. Does the test error agree fairly well with the validation error from before? Do you think you’ve had issues with optimization bias? Report your final test error directly in your README.md file as well as in your report.\n",
    "\n",
    "**Submission format:**\n",
    "Your submission should take the form of a \"report\" that includes both code and an explanation of what you've done. You don't have to include everything you ever tried - it's fine just to have your final code - but it should be reproducible. For example, if you chose your hyperparameters based on some hyperparameter optimization experiment, you should leave in the code for that experiment so that someone else could re-run it and obtain the same hyperparameters, rather than mysteriously just setting the hyperparameters to some (carefully chosen) values in your code.\n",
    "\n",
    "**Assessment:**\n",
    "We plan to grade and fairly leniently. We don't have some secret target accuracy that you need to achieve to get a good grade. You'll be assessed on demonstration of mastery of course topics, clear presentation, and the quality of your analysis and results. For example, if you write something like, \"And then I noticed the model was overfitting, so I decided to stop using regularization\" - then, well, that's not good. If you just have a bunch of code and no text or figures, that's not good. If you do a bunch of sane things and get a lower accuracy than your friend, don't sweat it.\n",
    "\n",
    "**And...**\n",
    "This style of this \"project\" question is different from other assignments. It'll be up to you to decide when you're \"done\" -- in fact, this is one of the hardest parts of real projects. But please don't spend WAY too much time on this... perhaps \"a few hours\" (2-6 hours???) is a good guideline for a typical submission. Of course if you're having fun you're welcome to spend as much time as you want! But, if so, don't do it out of perfectionism... do it because you're learning and enjoying it.\n",
    "\n"
   ]
  },
  {
   "cell_type": "markdown",
   "metadata": {},
   "source": [
    "## 1. Read the data"
   ]
  },
  {
   "cell_type": "code",
   "execution_count": 1,
   "metadata": {},
   "outputs": [
    {
     "name": "stdout",
     "output_type": "stream",
     "text": [
      "(30000, 25)\n"
     ]
    }
   ],
   "source": [
    "# YOUR CODE AND REPORT HERE, IN A SENSIBLE FORMAT\n",
    "import os\n",
    "import numpy as np\n",
    "import matplotlib.pyplot as plt\n",
    "%matplotlib inline\n",
    "import pandas as pd\n",
    "import seaborn as sns\n",
    "sns.set(style=\"ticks\")\n",
    "from sklearn.feature_extraction.text import CountVectorizer\n",
    "from skimage.io import imread, imshow\n",
    "\n",
    "# 1. read the data\n",
    "\n",
    "# filename = \"default of credit card clients.xls\"\n",
    "\n",
    "# with open(os.path.join(\"..\", \"data\", filename), \"rb\") as f:\n",
    "#     Xx = pd.read_excel(f)\n",
    "# Xx.head()\n",
    "\n",
    "# nn,dd = Xx.shape\n",
    "# tt = Xx.values\n",
    "# n = nn-1\n",
    "# d = dd-1\n",
    "# Y = Xx['Y'][1:nn]    # the binary label vector\n",
    "# X = np.zeros((n,d)) # the data set\n",
    "# for i in range(d):\n",
    "#     X[:,i] = tt[1:n+1,i]\n",
    "filename = \"default of credit card clients.xls\"\n",
    "X=pd.read_excel(os.path.join(\"..\", \"data\", filename),skiprows=[0]).values\n",
    "print(X.shape)\n",
    "# q2\n",
    "Y=X[:,-1]\n",
    "X=X[:,1:24]\n"
   ]
  },
  {
   "cell_type": "markdown",
   "metadata": {},
   "source": [
    "## 2. Perform exploratory data analysis "
   ]
  },
  {
   "cell_type": "code",
   "execution_count": 2,
   "metadata": {},
   "outputs": [
    {
     "name": "stdout",
     "output_type": "stream",
     "text": [
      "(30000, 23)\n",
      "The average of BILL_AMT1~6 over all clients is 46197.98216\n",
      "The average of PAY_AMT1~6 over all clients is 5287.178\n",
      "The largest age over all clients is 79\n",
      "The smallest age over all clients is 21\n"
     ]
    }
   ],
   "source": [
    "# 2.Perform exploratory data analysis \n",
    "\n",
    "# summary statistics\n",
    "\n",
    "# Bill_AMT1~6 and Pay_AMT1~average\n",
    "\n",
    "bill_mean = np.mean(X[:,11:16])\n",
    "pay_mean = np.mean(X[:,17:22])\n",
    "age_max = np.max(X[:,4])\n",
    "age_min = np.min(X[:,4])\n",
    "print(X.shape)\n",
    "print(\"The average of BILL_AMT1~6 over all clients is\",bill_mean)\n",
    "print(\"The average of PAY_AMT1~6 over all clients is\",pay_mean)\n",
    "print(\"The largest age over all clients is\",age_max)\n",
    "print(\"The smallest age over all clients is\",age_min)"
   ]
  },
  {
   "cell_type": "code",
   "execution_count": 3,
   "metadata": {},
   "outputs": [
    {
     "name": "stdout",
     "output_type": "stream",
     "text": [
      "Figure saved as '..\\figs\\The histogram of Education.png'\n",
      "Figure saved as '..\\figs\\The_histogram_of_age.png'\n",
      "Figure saved as '..\\figs\\The scatter plot of Education vs limit_BAL.png'\n"
     ]
    },
    {
     "data": {
      "image/png": "[encoded data removed]",
      "text/plain": [
       "<matplotlib.figure.Figure at 0x1c6364c0fd0>"
      ]
     },
     "metadata": {},
     "output_type": "display_data"
    },
    {
     "data": {
      "image/png": "[encoded data removed]",
      "text/plain": [
       "<matplotlib.figure.Figure at 0x1c636aeb7f0>"
      ]
     },
     "metadata": {},
     "output_type": "display_data"
    },
    {
     "data": {
      "image/png": "[encoded data removed]",
      "text/plain": [
       "<matplotlib.figure.Figure at 0x1c633b57c50>"
      ]
     },
     "metadata": {},
     "output_type": "display_data"
    }
   ],
   "source": [
    "# two visualizations\n",
    "\n",
    "FIGS_DIR = 'figs'\n",
    "def savefig(fname, verbose=True):\n",
    "    path = os.path.join('..', FIGS_DIR, fname)\n",
    "    plt.savefig(path)\n",
    "    if verbose:\n",
    "        print(\"Figure saved as '{}'\".format(path))\n",
    "\n",
    "\n",
    "fig = plt.figure()\n",
    "plt.hist(X[:,2])\n",
    "#plt.yscale('log', nonposy='clip')\n",
    "plt.title(\"The histogram of Education\")\n",
    "plt.xlabel(\"Education\")\n",
    "plt.ylabel(\"Frequency\")\n",
    "savefig('The histogram of Education.png' )\n",
    "\n",
    "fig = plt.figure()\n",
    "plt.hist(X[:,4])\n",
    "#plt.yscale('log', nonposy='clip')\n",
    "plt.title(\"The histogram of Age\")\n",
    "plt.xlabel(\"Age\")\n",
    "plt.ylabel(\"Frequency\")\n",
    "savefig('The_histogram_of_age.png' )\n",
    "\n",
    "fig = plt.figure()\n",
    "plt.scatter(X[:,2],X[:,0])\n",
    "plt.title(\"The scatter plot of Education vs limit_BAL\")\n",
    "plt.xlabel(\"Education\")\n",
    "plt.ylabel(\"limit_BAL\")\n",
    "savefig('The scatter plot of Education vs limit_BAL.png' )\n"
   ]
  },
  {
   "cell_type": "markdown",
   "metadata": {},
   "source": [
    "From the first two figures, we can get that the education level of most clients are 1,2 and 3, and most clients are 20~40 years old.<br>\n",
    "From the last picture, clients without education will never get the LIMIT_BAL larger than 400,000.\n"
   ]
  },
  {
   "cell_type": "markdown",
   "metadata": {},
   "source": [
    "## 3. Randomly split the data"
   ]
  },
  {
   "cell_type": "code",
   "execution_count": 4,
   "metadata": {},
   "outputs": [
    {
     "name": "stdout",
     "output_type": "stream",
     "text": [
      "(30000, 23) (30000,)\n",
      "(10050, 23) (10050,) (10050, 23) (10050,)\n"
     ]
    }
   ],
   "source": [
    "# index = np.asarray(range(n))\n",
    "# np.random.shuffle(index)\n",
    "# Xrand = X[index,:]\n",
    "# yrand = Y[index]\n",
    "# # Yrand = np.array(list(yrand[:]), dtype=np.float)\n",
    "# # Split training data into raining, test and validation sets\n",
    "# Xtrain = Xrand[0:n//3]\n",
    "# ytrain = Yrand[0:n//3]\n",
    "\n",
    "# Xtest = Xrand[n//3:2*(n//3)]\n",
    "# ytest = Yrand[n//3:2*(n//3)]\n",
    "\n",
    "# Xvalid = Xrand[2*(n//3): n]\n",
    "# yvalid = Yrand[2*(n//3): n]\n",
    "from sklearn.model_selection import train_test_split\n",
    "print(X.shape,Y.shape)\n",
    "\n",
    "X_train_vali, Xtest, y_train_vali, ytest = train_test_split(X, Y, test_size=0.33, random_state=42)\n",
    "Xtrain, Xvalid, ytrain, yvalid = train_test_split(X_train_vali, y_train_vali, test_size=0.5, random_state=42)\n",
    "print(Xtrain.shape,ytrain.shape,Xvalid.shape,yvalid.shape)"
   ]
  },
  {
   "cell_type": "markdown",
   "metadata": {},
   "source": [
    "## 4. DummyClassifier as a baseline model"
   ]
  },
  {
   "cell_type": "code",
   "execution_count": 5,
   "metadata": {},
   "outputs": [
    {
     "name": "stdout",
     "output_type": "stream",
     "text": [
      "DummyClassifier validation error: 0.225\n"
     ]
    }
   ],
   "source": [
    "## 4. DummyClassifier as a baseline model\n",
    "from sklearn.dummy import DummyClassifier\n",
    "base = DummyClassifier(strategy='most_frequent')\n",
    "base.fit(Xtrain, ytrain)\n",
    "y_hat = base.predict(Xvalid)\n",
    "error = np.mean(y_hat != yvalid)\n",
    "\n",
    "print(\"DummyClassifier validation error: %.3f\" % error)"
   ]
  },
  {
   "cell_type": "markdown",
   "metadata": {},
   "source": [
    "## 5.  Logistic regression"
   ]
  },
  {
   "cell_type": "code",
   "execution_count": 6,
   "metadata": {},
   "outputs": [
    {
     "name": "stdout",
     "output_type": "stream",
     "text": [
      "Figure saved as '..\\figs\\Etrain_Evalid.png'\n"
     ]
    },
    {
     "data": {
      "image/png": "[encoded data removed]",
      "text/plain": [
       "<matplotlib.figure.Figure at 0x1c632e83b00>"
      ]
     },
     "metadata": {},
     "output_type": "display_data"
    }
   ],
   "source": [
    "from sklearn.linear_model import LogisticRegression\n",
    "\n",
    "# C = 100\n",
    "C=[0.0001,0.01,0.05,0.1,0.2,0.3,0.6,0.8,1,2,3,4,5]\n",
    "Etrain = np.zeros(len(C))\n",
    "Evalid = np.zeros(len(C))\n",
    "\n",
    "for c in range(len(C)):\n",
    "    model = LogisticRegression(fit_intercept=True, C = 1/C[c])\n",
    "    model.fit(Xtrain,ytrain)\n",
    "#     model.fit(Xtrain,ytrain)\n",
    "    Etrain[c] = np.mean( ytrain != model.predict(Xtrain) )\n",
    "    Evalid[c] = np.mean( yvalid != model.predict(Xvalid) ) \n",
    "    '''\n",
    "    print(\"scikit-L2 with lambda = \", c ) \n",
    "    print(\"Training error %.3f\" , Etrain[c])\n",
    "    print(\"Validation error %.3f\" , Evalid[c])\n",
    "    print(\"# nonZeros: %d\\n\" % (model.coef_ != 0).sum() )\n",
    "    '''\n",
    "\n",
    "FIGS_DIR = 'figs'\n",
    "def savefig(fname, verbose=True):\n",
    "    path = os.path.join('..', FIGS_DIR, fname)\n",
    "    plt.savefig(path)\n",
    "    if verbose:\n",
    "        print(\"Figure saved as '{}'\".format(path))\n",
    "\n",
    "\n",
    "fig = plt.figure()\n",
    "plt.plot(C,Etrain)\n",
    "plt.plot(C,Evalid)\n",
    "plt.title(\"Train/validation error vs. regularization strength\")\n",
    "plt.xlabel(\"regularization strength\")\n",
    "plt.ylabel(\"Train/validation error\")\n",
    "savefig('Etrain_Evalid.png' )"
   ]
  },
  {
   "cell_type": "markdown",
   "metadata": {},
   "source": [
    "It is strange that training error and validation error keep the same when regularization strength changes. Training error keeps at 0.2242. Validation error keeps at 0.2202."
   ]
  },
  {
   "cell_type": "markdown",
   "metadata": {},
   "source": [
    "## 6. Explore the features"
   ]
  },
  {
   "cell_type": "code",
   "execution_count": 81,
   "metadata": {},
   "outputs": [
    {
     "name": "stderr",
     "output_type": "stream",
     "text": [
      "C:\\ProgramData\\Anaconda3\\lib\\site-packages\\sklearn\\utils\\validation.py:475: DataConversionWarning: Data with input dtype int64 was converted to float64 by StandardScaler.\n",
      "  warnings.warn(msg, DataConversionWarning)\n"
     ]
    },
    {
     "name": "stdout",
     "output_type": "stream",
     "text": [
      "After feature scaling, Logistic Regression (sklearn) validation error: 0.190\n",
      "Figure saved as '..\\figs\\Etrain_Evalid_feature_scaling.png'\n"
     ]
    },
    {
     "data": {
      "image/png": "[encoded data removed]",
      "text/plain": [
       "<matplotlib.figure.Figure at 0x1c63498a3c8>"
      ]
     },
     "metadata": {},
     "output_type": "display_data"
    }
   ],
   "source": [
    "from sklearn.preprocessing import StandardScaler\n",
    "\n",
    "scaler = StandardScaler()  \n",
    "# Don't cheat - fit only on training data\n",
    "scaler.fit(Xtrain)  \n",
    "rXtrain = scaler.transform(Xtrain)  \n",
    "# apply same transformation to test data\n",
    "rXtest = scaler.transform(Xtest) \n",
    "rXvalid = scaler.transform(Xvalid) \n",
    "rXtrainvalid=scaler.transform(X_train_vali)\n",
    "\n",
    "from sklearn.linear_model import LogisticRegression\n",
    "\n",
    "# C = 100\n",
    "# rEtrain = np.zeros(C)\n",
    "# rEvalid = np.zeros(C)\n",
    "C=[0.0001,0.01,0.05,0.1,0.2,0.3,0.6,0.8,1,2,3,4,5]\n",
    "rEtrain = np.zeros(len(C))\n",
    "rEvalid = np.zeros(len(C))\n",
    "\n",
    "for i in range(len(C)):\n",
    "    c = i\n",
    "    model = LogisticRegression(fit_intercept=True, C = 1/C[c])\n",
    "    model.fit(rXtrain,ytrain)\n",
    "    rEtrain[i] = np.mean( ytrain != model.predict(rXtrain) )\n",
    "    rEvalid[i] = np.mean( yvalid != model.predict(rXvalid) ) \n",
    "    \n",
    "print(\"After feature scaling, Logistic Regression (sklearn) validation error: %.3f\" % rEvalid[1])\n",
    "\n",
    "FIGS_DIR = 'figs'\n",
    "def savefig(fname, verbose=True):\n",
    "    path = os.path.join('..', FIGS_DIR, fname)\n",
    "    plt.savefig(path)\n",
    "    if verbose:\n",
    "        print(\"Figure saved as '{}'\".format(path))\n",
    "\n",
    "\n",
    "fig = plt.figure()\n",
    "plt.plot(C,rEtrain)\n",
    "plt.plot(C,rEvalid)\n",
    "plt.title(\"Train/validation error vs. regularization strength\")\n",
    "plt.xlabel(\"regularization strength\")\n",
    "plt.ylabel(\"Train/validation error\")\n",
    "savefig('Etrain_Evalid_feature_scaling.png' )"
   ]
  },
  {
   "cell_type": "markdown",
   "metadata": {},
   "source": [
    "Feature Scaling:<br>\n",
    "I center the data around 0 with Scikit-Learn’s preprocessing module.<br>\n",
    "\n",
    "After scaling, the error gets sightly improved.Training error becomes 0.2196. Validation error becomes 0.2193."
   ]
  },
  {
   "cell_type": "markdown",
   "metadata": {},
   "source": [
    "## 7. Try 3 other models"
   ]
  },
  {
   "cell_type": "code",
   "execution_count": 8,
   "metadata": {},
   "outputs": [
    {
     "name": "stdout",
     "output_type": "stream",
     "text": [
      "Random Forest (sklearn) validation error: 0.200\n",
      "After feature scaling, Random Forest (sklearn) validation error: 0.197\n",
      "Naive Bayes (sklearn) validation error: 0.232\n",
      "After feature scaling, Naive Bayes (sklearn) validation error: 0.320\n",
      "Neural Network(sklearn) validation error: 0.253\n",
      "After feature scaling, Neural Network(sklearn) validation error: 0.187\n"
     ]
    }
   ],
   "source": [
    "## 7. Try 3 other models\n",
    "\n",
    "# sklearn imports\n",
    "from sklearn.naive_bayes import BernoulliNB\n",
    "from sklearn.tree import DecisionTreeClassifier\n",
    "from sklearn.ensemble import RandomForestClassifier\n",
    "from sklearn.neural_network import MLPClassifier\n",
    "\n",
    "from skimage.io import imread, imshow, imsave\n",
    "\n",
    "\n",
    "\n",
    "## Random Forest\n",
    "\n",
    "model = RandomForestClassifier()\n",
    "model.fit(Xtrain, ytrain)\n",
    "y_pred = model.predict(Xvalid)\n",
    "v_error = np.mean(y_pred != yvalid)\n",
    "print(\"Random Forest (sklearn) validation error: %.3f\" % v_error)\n",
    "\n",
    "model = RandomForestClassifier()\n",
    "model.fit(rXtrain, ytrain)\n",
    "y_pred = model.predict(rXvalid)\n",
    "v_error = np.mean(y_pred != yvalid)\n",
    "print(\"After feature scaling, Random Forest (sklearn) validation error: %.3f\" % v_error)\n",
    "\n",
    "## Naive Bayes\n",
    "\n",
    "model = BernoulliNB()\n",
    "model.fit(Xtrain, ytrain)\n",
    "y_pred = model.predict(Xvalid)\n",
    "v_error = np.mean(y_pred != yvalid)\n",
    "print(\"Naive Bayes (sklearn) validation error: %.3f\" % v_error)\n",
    "\n",
    "model = BernoulliNB()\n",
    "model.fit(rXtrain, ytrain)\n",
    "y_pred = model.predict(rXvalid)\n",
    "v_error = np.mean(y_pred != yvalid)\n",
    "print(\"After feature scaling, Naive Bayes (sklearn) validation error: %.3f\" % v_error)\n",
    "\n",
    "## Neural Network\n",
    "\n",
    "#nn = MLPClassifier(solver='lbfgs', alpha=1e-5,hidden_layer_sizes=(15,), random_state=1)\n",
    "nn = MLPClassifier(random_state=4)\n",
    "nn.fit( Xtrain , ytrain)\n",
    "y_predNN = nn.predict(Xvalid)\n",
    "v_error = np.mean(y_predNN != yvalid)\n",
    "print(\"Neural Network(sklearn) validation error: %.3f\" % v_error)\n",
    "\n",
    "nn.fit(rXtrain, ytrain)\n",
    "y_predNN2 = nn.predict(rXvalid)\n",
    "v_error = np.mean(y_predNN2 != yvalid)\n",
    "print(\"After feature scaling, Neural Network(sklearn) validation error: %.3f\" % v_error)\n"
   ]
  },
  {
   "cell_type": "markdown",
   "metadata": {},
   "source": [
    "I expect the nerural network will work much better than the previous 4 methods. But the reseluts shows that actually, they all work not very well with validation error at around 0.2.<br>\n",
    "\n",
    "I think the reasons may lay in the exploring feature process and the inappropriate hyperparameters. <br>\n",
    "\n",
    "However, what I learned is that for neural network, feature scaling is essential which will improve performance, like decrease the validation error."
   ]
  },
  {
   "cell_type": "markdown",
   "metadata": {},
   "source": [
    "## 8. Optimize hyperparameters"
   ]
  },
  {
   "cell_type": "code",
   "execution_count": 65,
   "metadata": {
    "scrolled": false
   },
   "outputs": [
    {
     "name": "stdout",
     "output_type": "stream",
     "text": [
      "{'mean_fit_time': array([  0.99031067,   1.48192795,   0.53170927,  15.16390832,\n",
      "         9.67146015,   9.73090816,  23.38941463,   8.76746774,\n",
      "        15.68897398,   9.64397717,   9.15353282,   3.88753573]), 'std_fit_time': array([ 0.09722323,  0.13532957,  0.05243044,  0.06125209,  0.15887201,\n",
      "        4.84354918,  0.41269975,  3.39048351,  3.53693899,  2.48169016,\n",
      "        3.30009076,  2.5384544 ]), 'mean_score_time': array([ 0.01130327,  0.0090123 ,  0.01034013,  0.02719013,  0.02035387,\n",
      "        0.02634899,  0.04219675,  0.02079217,  0.02534644,  0.01184193,\n",
      "        0.00567055,  0.00650477]), 'std_score_time': array([ 0.0009986 ,  0.00041906,  0.0002363 ,  0.00413281,  0.00084608,\n",
      "        0.00726826,  0.0042893 ,  0.00986633,  0.0126721 ,  0.00473427,\n",
      "        0.00124821,  0.00108071]), 'param_activation': masked_array(data = ['identity' 'identity' 'identity' 'logistic' 'logistic' 'logistic' 'tanh'\n",
      " 'tanh' 'tanh' 'relu' 'relu' 'relu'],\n",
      "             mask = [False False False False False False False False False False False False],\n",
      "       fill_value = ?)\n",
      ", 'param_solver': masked_array(data = ['lbfgs' 'sgd' 'adam' 'lbfgs' 'sgd' 'adam' 'lbfgs' 'sgd' 'adam' 'lbfgs'\n",
      " 'sgd' 'adam'],\n",
      "             mask = [False False False False False False False False False False False False],\n",
      "       fill_value = ?)\n",
      ", 'params': [{'activation': 'identity', 'solver': 'lbfgs'}, {'activation': 'identity', 'solver': 'sgd'}, {'activation': 'identity', 'solver': 'adam'}, {'activation': 'logistic', 'solver': 'lbfgs'}, {'activation': 'logistic', 'solver': 'sgd'}, {'activation': 'logistic', 'solver': 'adam'}, {'activation': 'tanh', 'solver': 'lbfgs'}, {'activation': 'tanh', 'solver': 'sgd'}, {'activation': 'tanh', 'solver': 'adam'}, {'activation': 'relu', 'solver': 'lbfgs'}, {'activation': 'relu', 'solver': 'sgd'}, {'activation': 'relu', 'solver': 'adam'}], 'split0_test_score': array([ 0.80955224,  0.80895522,  0.81134328,  0.78746269,  0.7961194 ,\n",
      "        0.81462687,  0.76955224,  0.81283582,  0.80238806,  0.76238806,\n",
      "        0.81313433,  0.80776119]), 'split1_test_score': array([ 0.81462687,  0.81552239,  0.82029851,  0.7958209 ,  0.80268657,\n",
      "        0.8158209 ,  0.75820896,  0.81940299,  0.81283582,  0.76716418,\n",
      "        0.82626866,  0.81253731]), 'split2_test_score': array([ 0.80597015,  0.80686567,  0.80925373,  0.79253731,  0.79671642,\n",
      "        0.80955224,  0.7519403 ,  0.80865672,  0.80238806,  0.7680597 ,\n",
      "        0.81343284,  0.80955224]), 'mean_test_score': array([ 0.81004975,  0.81044776,  0.81363184,  0.7919403 ,  0.79850746,\n",
      "        0.81333333,  0.7599005 ,  0.81363184,  0.80587065,  0.76587065,\n",
      "        0.81761194,  0.80995025]), 'std_test_score': array([ 0.00355156,  0.00368831,  0.00479061,  0.00343824,  0.00296511,\n",
      "        0.00271771,  0.00728885,  0.00442311,  0.00492512,  0.00248955,\n",
      "        0.00612244,  0.00197005]), 'rank_test_score': array([ 6,  5,  2, 10,  9,  4, 12,  2,  8, 11,  1,  7]), 'split0_train_score': array([ 0.81597015,  0.81402985,  0.8161194 ,  0.86313433,  0.80029851,\n",
      "        0.82477612,  0.91134328,  0.81671642,  0.85283582,  0.89268657,\n",
      "        0.82268657,  0.83656716]), 'split1_train_score': array([ 0.8041791 ,  0.80149254,  0.80537313,  0.85522388,  0.79537313,\n",
      "        0.8061194 ,  0.91462687,  0.80820896,  0.83746269,  0.89      ,\n",
      "        0.81313433,  0.82970149]), 'split2_train_score': array([ 0.81373134,  0.8138806 ,  0.8141791 ,  0.86134328,  0.80179104,\n",
      "        0.82656716,  0.91880597,  0.81850746,  0.85298507,  0.89313433,\n",
      "        0.82164179,  0.82567164]), 'mean_train_score': array([ 0.81129353,  0.809801  ,  0.81189055,  0.8599005 ,  0.79915423,\n",
      "        0.81915423,  0.91492537,  0.81447761,  0.84776119,  0.8919403 ,\n",
      "        0.81915423,  0.83064677]), 'std_train_score': array([ 0.00511301,  0.00587528,  0.00467609,  0.00338674,  0.00274219,\n",
      "        0.00924597,  0.00305393,  0.00449251,  0.0072824 ,  0.00138412,\n",
      "        0.00427803,  0.00449802])}\n",
      "MLPClassifier(activation='relu', alpha=0.0001, batch_size='auto', beta_1=0.9,\n",
      "       beta_2=0.999, early_stopping=False, epsilon=1e-08,\n",
      "       hidden_layer_sizes=(100,), learning_rate='constant',\n",
      "       learning_rate_init=0.001, max_iter=200, momentum=0.9,\n",
      "       nesterovs_momentum=True, power_t=0.5, random_state=4, shuffle=True,\n",
      "       solver='sgd', tol=0.0001, validation_fraction=0.1, verbose=False,\n",
      "       warm_start=False)\n",
      "MLPClassifier(activation='relu', alpha=0.0001, batch_size='auto', beta_1=0.9,\n",
      "       beta_2=0.999, early_stopping=False, epsilon=1e-08,\n",
      "       hidden_layer_sizes=(100,), learning_rate='constant',\n",
      "       learning_rate_init=0.001, max_iter=200, momentum=0.9,\n",
      "       nesterovs_momentum=True, power_t=0.5, random_state=4, shuffle=True,\n",
      "       solver='sgd', tol=0.0001, validation_fraction=0.1, verbose=False,\n",
      "       warm_start=False)\n"
     ]
    },
    {
     "name": "stderr",
     "output_type": "stream",
     "text": [
      "C:\\ProgramData\\Anaconda3\\lib\\site-packages\\sklearn\\linear_model\\sag.py:326: ConvergenceWarning: The max_iter was reached which means the coef_ did not converge\n",
      "  \"the coef_ did not converge\", ConvergenceWarning)\n",
      "C:\\ProgramData\\Anaconda3\\lib\\site-packages\\sklearn\\linear_model\\sag.py:326: ConvergenceWarning: The max_iter was reached which means the coef_ did not converge\n",
      "  \"the coef_ did not converge\", ConvergenceWarning)\n",
      "C:\\ProgramData\\Anaconda3\\lib\\site-packages\\sklearn\\linear_model\\sag.py:326: ConvergenceWarning: The max_iter was reached which means the coef_ did not converge\n",
      "  \"the coef_ did not converge\", ConvergenceWarning)\n",
      "C:\\ProgramData\\Anaconda3\\lib\\site-packages\\sklearn\\linear_model\\sag.py:326: ConvergenceWarning: The max_iter was reached which means the coef_ did not converge\n",
      "  \"the coef_ did not converge\", ConvergenceWarning)\n",
      "C:\\ProgramData\\Anaconda3\\lib\\site-packages\\sklearn\\linear_model\\sag.py:326: ConvergenceWarning: The max_iter was reached which means the coef_ did not converge\n",
      "  \"the coef_ did not converge\", ConvergenceWarning)\n",
      "C:\\ProgramData\\Anaconda3\\lib\\site-packages\\sklearn\\linear_model\\sag.py:326: ConvergenceWarning: The max_iter was reached which means the coef_ did not converge\n",
      "  \"the coef_ did not converge\", ConvergenceWarning)\n",
      "C:\\ProgramData\\Anaconda3\\lib\\site-packages\\sklearn\\linear_model\\sag.py:326: ConvergenceWarning: The max_iter was reached which means the coef_ did not converge\n",
      "  \"the coef_ did not converge\", ConvergenceWarning)\n",
      "C:\\ProgramData\\Anaconda3\\lib\\site-packages\\sklearn\\linear_model\\sag.py:326: ConvergenceWarning: The max_iter was reached which means the coef_ did not converge\n",
      "  \"the coef_ did not converge\", ConvergenceWarning)\n",
      "C:\\ProgramData\\Anaconda3\\lib\\site-packages\\sklearn\\linear_model\\sag.py:326: ConvergenceWarning: The max_iter was reached which means the coef_ did not converge\n",
      "  \"the coef_ did not converge\", ConvergenceWarning)\n",
      "C:\\ProgramData\\Anaconda3\\lib\\site-packages\\sklearn\\linear_model\\sag.py:326: ConvergenceWarning: The max_iter was reached which means the coef_ did not converge\n",
      "  \"the coef_ did not converge\", ConvergenceWarning)\n",
      "C:\\ProgramData\\Anaconda3\\lib\\site-packages\\sklearn\\linear_model\\sag.py:326: ConvergenceWarning: The max_iter was reached which means the coef_ did not converge\n",
      "  \"the coef_ did not converge\", ConvergenceWarning)\n",
      "C:\\ProgramData\\Anaconda3\\lib\\site-packages\\sklearn\\linear_model\\sag.py:326: ConvergenceWarning: The max_iter was reached which means the coef_ did not converge\n",
      "  \"the coef_ did not converge\", ConvergenceWarning)\n",
      "C:\\ProgramData\\Anaconda3\\lib\\site-packages\\sklearn\\linear_model\\sag.py:326: ConvergenceWarning: The max_iter was reached which means the coef_ did not converge\n",
      "  \"the coef_ did not converge\", ConvergenceWarning)\n",
      "C:\\ProgramData\\Anaconda3\\lib\\site-packages\\sklearn\\linear_model\\sag.py:326: ConvergenceWarning: The max_iter was reached which means the coef_ did not converge\n",
      "  \"the coef_ did not converge\", ConvergenceWarning)\n",
      "C:\\ProgramData\\Anaconda3\\lib\\site-packages\\sklearn\\linear_model\\sag.py:326: ConvergenceWarning: The max_iter was reached which means the coef_ did not converge\n",
      "  \"the coef_ did not converge\", ConvergenceWarning)\n",
      "C:\\ProgramData\\Anaconda3\\lib\\site-packages\\sklearn\\linear_model\\sag.py:326: ConvergenceWarning: The max_iter was reached which means the coef_ did not converge\n",
      "  \"the coef_ did not converge\", ConvergenceWarning)\n",
      "C:\\ProgramData\\Anaconda3\\lib\\site-packages\\sklearn\\linear_model\\sag.py:326: ConvergenceWarning: The max_iter was reached which means the coef_ did not converge\n",
      "  \"the coef_ did not converge\", ConvergenceWarning)\n",
      "C:\\ProgramData\\Anaconda3\\lib\\site-packages\\sklearn\\linear_model\\sag.py:326: ConvergenceWarning: The max_iter was reached which means the coef_ did not converge\n",
      "  \"the coef_ did not converge\", ConvergenceWarning)\n",
      "C:\\ProgramData\\Anaconda3\\lib\\site-packages\\sklearn\\linear_model\\sag.py:326: ConvergenceWarning: The max_iter was reached which means the coef_ did not converge\n",
      "  \"the coef_ did not converge\", ConvergenceWarning)\n",
      "C:\\ProgramData\\Anaconda3\\lib\\site-packages\\sklearn\\linear_model\\sag.py:326: ConvergenceWarning: The max_iter was reached which means the coef_ did not converge\n",
      "  \"the coef_ did not converge\", ConvergenceWarning)\n",
      "C:\\ProgramData\\Anaconda3\\lib\\site-packages\\sklearn\\linear_model\\sag.py:326: ConvergenceWarning: The max_iter was reached which means the coef_ did not converge\n",
      "  \"the coef_ did not converge\", ConvergenceWarning)\n",
      "C:\\ProgramData\\Anaconda3\\lib\\site-packages\\sklearn\\linear_model\\sag.py:326: ConvergenceWarning: The max_iter was reached which means the coef_ did not converge\n",
      "  \"the coef_ did not converge\", ConvergenceWarning)\n",
      "C:\\ProgramData\\Anaconda3\\lib\\site-packages\\sklearn\\linear_model\\sag.py:326: ConvergenceWarning: The max_iter was reached which means the coef_ did not converge\n",
      "  \"the coef_ did not converge\", ConvergenceWarning)\n",
      "C:\\ProgramData\\Anaconda3\\lib\\site-packages\\sklearn\\linear_model\\sag.py:326: ConvergenceWarning: The max_iter was reached which means the coef_ did not converge\n",
      "  \"the coef_ did not converge\", ConvergenceWarning)\n",
      "C:\\ProgramData\\Anaconda3\\lib\\site-packages\\sklearn\\linear_model\\sag.py:326: ConvergenceWarning: The max_iter was reached which means the coef_ did not converge\n",
      "  \"the coef_ did not converge\", ConvergenceWarning)\n",
      "C:\\ProgramData\\Anaconda3\\lib\\site-packages\\sklearn\\linear_model\\sag.py:326: ConvergenceWarning: The max_iter was reached which means the coef_ did not converge\n",
      "  \"the coef_ did not converge\", ConvergenceWarning)\n",
      "C:\\ProgramData\\Anaconda3\\lib\\site-packages\\sklearn\\linear_model\\sag.py:326: ConvergenceWarning: The max_iter was reached which means the coef_ did not converge\n",
      "  \"the coef_ did not converge\", ConvergenceWarning)\n",
      "C:\\ProgramData\\Anaconda3\\lib\\site-packages\\sklearn\\linear_model\\sag.py:326: ConvergenceWarning: The max_iter was reached which means the coef_ did not converge\n",
      "  \"the coef_ did not converge\", ConvergenceWarning)\n",
      "C:\\ProgramData\\Anaconda3\\lib\\site-packages\\sklearn\\linear_model\\sag.py:326: ConvergenceWarning: The max_iter was reached which means the coef_ did not converge\n",
      "  \"the coef_ did not converge\", ConvergenceWarning)\n",
      "C:\\ProgramData\\Anaconda3\\lib\\site-packages\\sklearn\\linear_model\\sag.py:326: ConvergenceWarning: The max_iter was reached which means the coef_ did not converge\n",
      "  \"the coef_ did not converge\", ConvergenceWarning)\n",
      "C:\\ProgramData\\Anaconda3\\lib\\site-packages\\sklearn\\linear_model\\sag.py:326: ConvergenceWarning: The max_iter was reached which means the coef_ did not converge\n",
      "  \"the coef_ did not converge\", ConvergenceWarning)\n",
      "C:\\ProgramData\\Anaconda3\\lib\\site-packages\\sklearn\\linear_model\\sag.py:326: ConvergenceWarning: The max_iter was reached which means the coef_ did not converge\n",
      "  \"the coef_ did not converge\", ConvergenceWarning)\n",
      "C:\\ProgramData\\Anaconda3\\lib\\site-packages\\sklearn\\linear_model\\sag.py:326: ConvergenceWarning: The max_iter was reached which means the coef_ did not converge\n",
      "  \"the coef_ did not converge\", ConvergenceWarning)\n",
      "C:\\ProgramData\\Anaconda3\\lib\\site-packages\\sklearn\\linear_model\\sag.py:326: ConvergenceWarning: The max_iter was reached which means the coef_ did not converge\n",
      "  \"the coef_ did not converge\", ConvergenceWarning)\n",
      "C:\\ProgramData\\Anaconda3\\lib\\site-packages\\sklearn\\linear_model\\sag.py:326: ConvergenceWarning: The max_iter was reached which means the coef_ did not converge\n",
      "  \"the coef_ did not converge\", ConvergenceWarning)\n",
      "C:\\ProgramData\\Anaconda3\\lib\\site-packages\\sklearn\\linear_model\\sag.py:326: ConvergenceWarning: The max_iter was reached which means the coef_ did not converge\n",
      "  \"the coef_ did not converge\", ConvergenceWarning)\n",
      "C:\\ProgramData\\Anaconda3\\lib\\site-packages\\sklearn\\linear_model\\sag.py:326: ConvergenceWarning: The max_iter was reached which means the coef_ did not converge\n",
      "  \"the coef_ did not converge\", ConvergenceWarning)\n",
      "C:\\ProgramData\\Anaconda3\\lib\\site-packages\\sklearn\\linear_model\\sag.py:326: ConvergenceWarning: The max_iter was reached which means the coef_ did not converge\n",
      "  \"the coef_ did not converge\", ConvergenceWarning)\n",
      "C:\\ProgramData\\Anaconda3\\lib\\site-packages\\sklearn\\linear_model\\sag.py:326: ConvergenceWarning: The max_iter was reached which means the coef_ did not converge\n",
      "  \"the coef_ did not converge\", ConvergenceWarning)\n"
     ]
    },
    {
     "name": "stderr",
     "output_type": "stream",
     "text": [
      "C:\\ProgramData\\Anaconda3\\lib\\site-packages\\sklearn\\linear_model\\sag.py:326: ConvergenceWarning: The max_iter was reached which means the coef_ did not converge\n",
      "  \"the coef_ did not converge\", ConvergenceWarning)\n",
      "C:\\ProgramData\\Anaconda3\\lib\\site-packages\\sklearn\\linear_model\\sag.py:326: ConvergenceWarning: The max_iter was reached which means the coef_ did not converge\n",
      "  \"the coef_ did not converge\", ConvergenceWarning)\n",
      "C:\\ProgramData\\Anaconda3\\lib\\site-packages\\sklearn\\linear_model\\sag.py:326: ConvergenceWarning: The max_iter was reached which means the coef_ did not converge\n",
      "  \"the coef_ did not converge\", ConvergenceWarning)\n",
      "C:\\ProgramData\\Anaconda3\\lib\\site-packages\\sklearn\\linear_model\\sag.py:326: ConvergenceWarning: The max_iter was reached which means the coef_ did not converge\n",
      "  \"the coef_ did not converge\", ConvergenceWarning)\n",
      "C:\\ProgramData\\Anaconda3\\lib\\site-packages\\sklearn\\linear_model\\sag.py:326: ConvergenceWarning: The max_iter was reached which means the coef_ did not converge\n",
      "  \"the coef_ did not converge\", ConvergenceWarning)\n",
      "C:\\ProgramData\\Anaconda3\\lib\\site-packages\\sklearn\\linear_model\\sag.py:326: ConvergenceWarning: The max_iter was reached which means the coef_ did not converge\n",
      "  \"the coef_ did not converge\", ConvergenceWarning)\n",
      "C:\\ProgramData\\Anaconda3\\lib\\site-packages\\sklearn\\linear_model\\sag.py:326: ConvergenceWarning: The max_iter was reached which means the coef_ did not converge\n",
      "  \"the coef_ did not converge\", ConvergenceWarning)\n",
      "C:\\ProgramData\\Anaconda3\\lib\\site-packages\\sklearn\\linear_model\\sag.py:326: ConvergenceWarning: The max_iter was reached which means the coef_ did not converge\n",
      "  \"the coef_ did not converge\", ConvergenceWarning)\n",
      "C:\\ProgramData\\Anaconda3\\lib\\site-packages\\sklearn\\linear_model\\sag.py:326: ConvergenceWarning: The max_iter was reached which means the coef_ did not converge\n",
      "  \"the coef_ did not converge\", ConvergenceWarning)\n",
      "C:\\ProgramData\\Anaconda3\\lib\\site-packages\\sklearn\\linear_model\\sag.py:326: ConvergenceWarning: The max_iter was reached which means the coef_ did not converge\n",
      "  \"the coef_ did not converge\", ConvergenceWarning)\n",
      "C:\\ProgramData\\Anaconda3\\lib\\site-packages\\sklearn\\linear_model\\sag.py:326: ConvergenceWarning: The max_iter was reached which means the coef_ did not converge\n",
      "  \"the coef_ did not converge\", ConvergenceWarning)\n",
      "C:\\ProgramData\\Anaconda3\\lib\\site-packages\\sklearn\\linear_model\\sag.py:326: ConvergenceWarning: The max_iter was reached which means the coef_ did not converge\n",
      "  \"the coef_ did not converge\", ConvergenceWarning)\n",
      "C:\\ProgramData\\Anaconda3\\lib\\site-packages\\sklearn\\linear_model\\sag.py:326: ConvergenceWarning: The max_iter was reached which means the coef_ did not converge\n",
      "  \"the coef_ did not converge\", ConvergenceWarning)\n",
      "C:\\ProgramData\\Anaconda3\\lib\\site-packages\\sklearn\\linear_model\\sag.py:326: ConvergenceWarning: The max_iter was reached which means the coef_ did not converge\n",
      "  \"the coef_ did not converge\", ConvergenceWarning)\n",
      "C:\\ProgramData\\Anaconda3\\lib\\site-packages\\sklearn\\linear_model\\sag.py:326: ConvergenceWarning: The max_iter was reached which means the coef_ did not converge\n",
      "  \"the coef_ did not converge\", ConvergenceWarning)\n",
      "C:\\ProgramData\\Anaconda3\\lib\\site-packages\\sklearn\\linear_model\\sag.py:326: ConvergenceWarning: The max_iter was reached which means the coef_ did not converge\n",
      "  \"the coef_ did not converge\", ConvergenceWarning)\n",
      "C:\\ProgramData\\Anaconda3\\lib\\site-packages\\sklearn\\linear_model\\sag.py:326: ConvergenceWarning: The max_iter was reached which means the coef_ did not converge\n",
      "  \"the coef_ did not converge\", ConvergenceWarning)\n",
      "C:\\ProgramData\\Anaconda3\\lib\\site-packages\\sklearn\\linear_model\\sag.py:326: ConvergenceWarning: The max_iter was reached which means the coef_ did not converge\n",
      "  \"the coef_ did not converge\", ConvergenceWarning)\n",
      "C:\\ProgramData\\Anaconda3\\lib\\site-packages\\sklearn\\linear_model\\sag.py:326: ConvergenceWarning: The max_iter was reached which means the coef_ did not converge\n",
      "  \"the coef_ did not converge\", ConvergenceWarning)\n",
      "C:\\ProgramData\\Anaconda3\\lib\\site-packages\\sklearn\\linear_model\\sag.py:326: ConvergenceWarning: The max_iter was reached which means the coef_ did not converge\n",
      "  \"the coef_ did not converge\", ConvergenceWarning)\n",
      "C:\\ProgramData\\Anaconda3\\lib\\site-packages\\sklearn\\linear_model\\sag.py:326: ConvergenceWarning: The max_iter was reached which means the coef_ did not converge\n",
      "  \"the coef_ did not converge\", ConvergenceWarning)\n",
      "C:\\ProgramData\\Anaconda3\\lib\\site-packages\\sklearn\\linear_model\\sag.py:326: ConvergenceWarning: The max_iter was reached which means the coef_ did not converge\n",
      "  \"the coef_ did not converge\", ConvergenceWarning)\n",
      "C:\\ProgramData\\Anaconda3\\lib\\site-packages\\sklearn\\linear_model\\sag.py:326: ConvergenceWarning: The max_iter was reached which means the coef_ did not converge\n",
      "  \"the coef_ did not converge\", ConvergenceWarning)\n",
      "C:\\ProgramData\\Anaconda3\\lib\\site-packages\\sklearn\\linear_model\\sag.py:326: ConvergenceWarning: The max_iter was reached which means the coef_ did not converge\n",
      "  \"the coef_ did not converge\", ConvergenceWarning)\n",
      "C:\\ProgramData\\Anaconda3\\lib\\site-packages\\sklearn\\linear_model\\sag.py:326: ConvergenceWarning: The max_iter was reached which means the coef_ did not converge\n",
      "  \"the coef_ did not converge\", ConvergenceWarning)\n",
      "C:\\ProgramData\\Anaconda3\\lib\\site-packages\\sklearn\\linear_model\\sag.py:326: ConvergenceWarning: The max_iter was reached which means the coef_ did not converge\n",
      "  \"the coef_ did not converge\", ConvergenceWarning)\n",
      "C:\\ProgramData\\Anaconda3\\lib\\site-packages\\sklearn\\linear_model\\sag.py:326: ConvergenceWarning: The max_iter was reached which means the coef_ did not converge\n",
      "  \"the coef_ did not converge\", ConvergenceWarning)\n",
      "C:\\ProgramData\\Anaconda3\\lib\\site-packages\\sklearn\\linear_model\\sag.py:326: ConvergenceWarning: The max_iter was reached which means the coef_ did not converge\n",
      "  \"the coef_ did not converge\", ConvergenceWarning)\n"
     ]
    },
    {
     "name": "stdout",
     "output_type": "stream",
     "text": [
      "{'mean_fit_time': array([ 0.03936021,  0.04970638,  0.27573864,  0.40345399,  0.05654852,\n",
      "        0.11258054,  0.66569487,  1.30433432,  0.09010363,  0.12574657,\n",
      "        1.39133708,  1.73510098,  0.10692914,  0.14179365,  1.41100264,\n",
      "        1.7649308 ,  0.11076212,  0.15560881,  1.34258119,  1.67954938,\n",
      "        0.11744332,  0.12674522,  1.29576882,  1.66623688,  0.12809165,\n",
      "        0.15829833,  1.38403304,  1.83658107,  0.12710007,  0.14895169,\n",
      "        1.43236645,  1.82902511,  0.13926943,  0.16760969,  1.45993296,\n",
      "        1.77540716,  0.13708798,  0.16478364,  1.6145308 ,  1.86725529,\n",
      "        0.12558977,  0.17763376,  1.38835311,  1.81514025,  0.15345089,\n",
      "        0.16478602,  1.42059326,  1.76381723,  0.11857629,  0.14859502,\n",
      "        1.40518332,  1.6928734 ]), 'std_fit_time': array([ 0.00436761,  0.00544564,  0.01297649,  0.01604018,  0.00147424,\n",
      "        0.01335982,  0.06897203,  0.15729153,  0.00405285,  0.01653657,\n",
      "        0.02117182,  0.02063951,  0.01175342,  0.00449751,  0.02640455,\n",
      "        0.02825913,  0.00806833,  0.02046922,  0.02747068,  0.00076827,\n",
      "        0.01374641,  0.00482616,  0.00651048,  0.01769492,  0.02125589,\n",
      "        0.01568505,  0.11484905,  0.04337583,  0.00954159,  0.00956274,\n",
      "        0.04554503,  0.04284843,  0.02106731,  0.01397447,  0.02643722,\n",
      "        0.0071424 ,  0.01662736,  0.00403106,  0.0979074 ,  0.05238227,\n",
      "        0.02101799,  0.00228704,  0.02024072,  0.0264223 ,  0.02086052,\n",
      "        0.02251168,  0.0542676 ,  0.02078491,  0.00858877,  0.01560046,\n",
      "        0.03854893,  0.01554735]), 'mean_score_time': array([ 0.00267021,  0.00249441,  0.00247327,  0.00232538,  0.00183439,\n",
      "        0.0028247 ,  0.0026602 ,  0.00231568,  0.00250165,  0.00283543,\n",
      "        0.00265272,  0.00264597,  0.00200089,  0.0023369 ,  0.00248035,\n",
      "        0.00265137,  0.00183431,  0.00233642,  0.00214632,  0.00230734,\n",
      "        0.00166766,  0.00233499,  0.00266806,  0.00247176,  0.00233595,\n",
      "        0.00216619,  0.00248075,  0.00265805,  0.00248321,  0.00216802,\n",
      "        0.00266329,  0.00332848,  0.00249887,  0.00266957,  0.00283027,\n",
      "        0.00265066,  0.00216762,  0.00216834,  0.00282574,  0.00265527,\n",
      "        0.00233499,  0.00266409,  0.00265463,  0.00282677,  0.00250125,\n",
      "        0.00300161,  0.0023013 ,  0.00249044,  0.00216802,  0.00250189,\n",
      "        0.00282017,  0.00264796]), 'std_score_time': array([  2.37259378e-04,   9.52149868e-06,   5.94720425e-07,\n",
      "         2.30647464e-04,   2.35853784e-04,   2.49453166e-04,\n",
      "         9.49258242e-04,   2.44083911e-04,   6.25769923e-07,\n",
      "         2.36813013e-04,   4.65819888e-04,   6.34661480e-04,\n",
      "         1.07214749e-06,   4.75304099e-04,   4.20235424e-04,\n",
      "         2.32366220e-04,   2.35966658e-04,   2.36820614e-04,\n",
      "         2.47261511e-04,   2.37821334e-04,   2.35741393e-04,\n",
      "         2.35797649e-04,   2.35404218e-04,   4.10173526e-04,\n",
      "         2.36811093e-04,   2.33886992e-04,   3.97268936e-04,\n",
      "         4.84126888e-04,   1.36007763e-05,   2.35460474e-04,\n",
      "         4.74023798e-04,   2.32060723e-04,   4.05077773e-06,\n",
      "         2.36190959e-04,   2.35521115e-04,   2.27541637e-04,\n",
      "         4.71482906e-04,   2.37090092e-04,   2.29174043e-04,\n",
      "         2.40179316e-04,   4.72269487e-04,   2.40401683e-04,\n",
      "         2.46137390e-04,   4.83258809e-04,   5.15042996e-07,\n",
      "         8.16632194e-04,   2.40293548e-04,   2.30435665e-05,\n",
      "         2.36303511e-04,   9.60274217e-07,   4.81373363e-04,\n",
      "         2.45410312e-04]), 'param_C': masked_array(data = [0.0001 0.0001 0.0001 0.0001 0.01 0.01 0.01 0.01 0.05 0.05 0.05 0.05 0.1\n",
      " 0.1 0.1 0.1 0.2 0.2 0.2 0.2 0.3 0.3 0.3 0.3 0.6 0.6 0.6 0.6 0.8 0.8 0.8\n",
      " 0.8 1 1 1 1 2 2 2 2 3 3 3 3 4 4 4 4 5 5 5 5],\n",
      "             mask = [False False False False False False False False False False False False\n",
      " False False False False False False False False False False False False\n",
      " False False False False False False False False False False False False\n",
      " False False False False False False False False False False False False\n",
      " False False False False],\n",
      "       fill_value = ?)\n",
      ", 'param_solver': masked_array(data = ['lbfgs' 'liblinear' 'sag' 'saga' 'lbfgs' 'liblinear' 'sag' 'saga' 'lbfgs'\n",
      " 'liblinear' 'sag' 'saga' 'lbfgs' 'liblinear' 'sag' 'saga' 'lbfgs'\n",
      " 'liblinear' 'sag' 'saga' 'lbfgs' 'liblinear' 'sag' 'saga' 'lbfgs'\n",
      " 'liblinear' 'sag' 'saga' 'lbfgs' 'liblinear' 'sag' 'saga' 'lbfgs'\n",
      " 'liblinear' 'sag' 'saga' 'lbfgs' 'liblinear' 'sag' 'saga' 'lbfgs'\n",
      " 'liblinear' 'sag' 'saga' 'lbfgs' 'liblinear' 'sag' 'saga' 'lbfgs'\n",
      " 'liblinear' 'sag' 'saga'],\n",
      "             mask = [False False False False False False False False False False False False\n",
      " False False False False False False False False False False False False\n",
      " False False False False False False False False False False False False\n",
      " False False False False False False False False False False False False\n",
      " False False False False],\n",
      "       fill_value = ?)\n",
      ", 'params': [{'C': 0.0001, 'solver': 'lbfgs'}, {'C': 0.0001, 'solver': 'liblinear'}, {'C': 0.0001, 'solver': 'sag'}, {'C': 0.0001, 'solver': 'saga'}, {'C': 0.01, 'solver': 'lbfgs'}, {'C': 0.01, 'solver': 'liblinear'}, {'C': 0.01, 'solver': 'sag'}, {'C': 0.01, 'solver': 'saga'}, {'C': 0.05, 'solver': 'lbfgs'}, {'C': 0.05, 'solver': 'liblinear'}, {'C': 0.05, 'solver': 'sag'}, {'C': 0.05, 'solver': 'saga'}, {'C': 0.1, 'solver': 'lbfgs'}, {'C': 0.1, 'solver': 'liblinear'}, {'C': 0.1, 'solver': 'sag'}, {'C': 0.1, 'solver': 'saga'}, {'C': 0.2, 'solver': 'lbfgs'}, {'C': 0.2, 'solver': 'liblinear'}, {'C': 0.2, 'solver': 'sag'}, {'C': 0.2, 'solver': 'saga'}, {'C': 0.3, 'solver': 'lbfgs'}, {'C': 0.3, 'solver': 'liblinear'}, {'C': 0.3, 'solver': 'sag'}, {'C': 0.3, 'solver': 'saga'}, {'C': 0.6, 'solver': 'lbfgs'}, {'C': 0.6, 'solver': 'liblinear'}, {'C': 0.6, 'solver': 'sag'}, {'C': 0.6, 'solver': 'saga'}, {'C': 0.8, 'solver': 'lbfgs'}, {'C': 0.8, 'solver': 'liblinear'}, {'C': 0.8, 'solver': 'sag'}, {'C': 0.8, 'solver': 'saga'}, {'C': 1, 'solver': 'lbfgs'}, {'C': 1, 'solver': 'liblinear'}, {'C': 1, 'solver': 'sag'}, {'C': 1, 'solver': 'saga'}, {'C': 2, 'solver': 'lbfgs'}, {'C': 2, 'solver': 'liblinear'}, {'C': 2, 'solver': 'sag'}, {'C': 2, 'solver': 'saga'}, {'C': 3, 'solver': 'lbfgs'}, {'C': 3, 'solver': 'liblinear'}, {'C': 3, 'solver': 'sag'}, {'C': 3, 'solver': 'saga'}, {'C': 4, 'solver': 'lbfgs'}, {'C': 4, 'solver': 'liblinear'}, {'C': 4, 'solver': 'sag'}, {'C': 4, 'solver': 'saga'}, {'C': 5, 'solver': 'lbfgs'}, {'C': 5, 'solver': 'liblinear'}, {'C': 5, 'solver': 'sag'}, {'C': 5, 'solver': 'saga'}], 'split0_test_score': array([ 0.77940299,  0.80029851,  0.77940299,  0.77940299,  0.80179104,\n",
      "        0.80686567,  0.80179104,  0.80179104,  0.80925373,  0.80776119,\n",
      "        0.80925373,  0.80925373,  0.80776119,  0.80835821,  0.80776119,\n",
      "        0.80865672,  0.80865672,  0.80865672,  0.80865672,  0.80865672,\n",
      "        0.80865672,  0.80895522,  0.80865672,  0.80895522,  0.80895522,\n",
      "        0.80895522,  0.80835821,  0.80895522,  0.80865672,  0.80895522,\n",
      "        0.80865672,  0.80925373,  0.80895522,  0.80895522,  0.80865672,\n",
      "        0.80925373,  0.80865672,  0.80895522,  0.80865672,  0.80925373,\n",
      "        0.80865672,  0.80865672,  0.80865672,  0.80925373,  0.80865672,\n",
      "        0.80865672,  0.80865672,  0.80925373,  0.80865672,  0.80865672,\n",
      "        0.80865672,  0.80925373]), 'split1_test_score': array([ 0.77970149,  0.81671642,  0.77970149,  0.77970149,  0.81223881,\n",
      "        0.81313433,  0.81223881,  0.81223881,  0.81253731,  0.81432836,\n",
      "        0.81283582,  0.81313433,  0.81432836,  0.81462687,  0.81432836,\n",
      "        0.81462687,  0.81432836,  0.81492537,  0.81432836,  0.81462687,\n",
      "        0.81462687,  0.81522388,  0.81432836,  0.81462687,  0.81462687,\n",
      "        0.81522388,  0.81462687,  0.81462687,  0.81462687,  0.81492537,\n",
      "        0.81432836,  0.81462687,  0.81462687,  0.81462687,  0.81462687,\n",
      "        0.81462687,  0.81432836,  0.81462687,  0.81492537,  0.81462687,\n",
      "        0.81432836,  0.81462687,  0.81432836,  0.81462687,  0.81432836,\n",
      "        0.81462687,  0.81462687,  0.81462687,  0.81432836,  0.81462687,\n",
      "        0.81492537,  0.81462687]), 'split2_test_score': array([ 0.77940299,  0.80656716,  0.77940299,  0.77940299,  0.80179104,\n",
      "        0.80597015,  0.80179104,  0.80179104,  0.80626866,  0.80686567,\n",
      "        0.80626866,  0.80626866,  0.80656716,  0.80656716,  0.80656716,\n",
      "        0.80656716,  0.80626866,  0.80597015,  0.80626866,  0.80686567,\n",
      "        0.80597015,  0.80597015,  0.80597015,  0.80626866,  0.80597015,\n",
      "        0.80597015,  0.80597015,  0.80626866,  0.80597015,  0.80597015,\n",
      "        0.80597015,  0.80626866,  0.80597015,  0.80597015,  0.80597015,\n",
      "        0.80626866,  0.80597015,  0.80597015,  0.80597015,  0.80626866,\n",
      "        0.80597015,  0.80597015,  0.80597015,  0.80626866,  0.80597015,\n",
      "        0.80597015,  0.80597015,  0.80626866,  0.80597015,  0.80597015,\n",
      "        0.80597015,  0.80626866]), 'mean_test_score': array([ 0.77950249,  0.8078607 ,  0.77950249,  0.77950249,  0.80527363,\n",
      "        0.80865672,  0.80527363,  0.80527363,  0.80935323,  0.80965174,\n",
      "        0.80945274,  0.80955224,  0.80955224,  0.80985075,  0.80955224,\n",
      "        0.80995025,  0.80975124,  0.80985075,  0.80975124,  0.81004975,\n",
      "        0.80975124,  0.81004975,  0.80965174,  0.80995025,  0.80985075,\n",
      "        0.81004975,  0.80965174,  0.80995025,  0.80975124,  0.80995025,\n",
      "        0.80965174,  0.81004975,  0.80985075,  0.80985075,  0.80975124,\n",
      "        0.81004975,  0.80965174,  0.80985075,  0.80985075,  0.81004975,\n",
      "        0.80965174,  0.80975124,  0.80965174,  0.81004975,  0.80965174,\n",
      "        0.80975124,  0.80975124,  0.81004975,  0.80965174,  0.80975124,\n",
      "        0.80985075,  0.81004975]), 'std_test_score': array([ 0.00014072,  0.00676471,  0.00014072,  0.00014072,  0.00492512,\n",
      "        0.00318719,  0.00492512,  0.00492512,  0.00256014,  0.00332702,\n",
      "        0.00268472,  0.00281084,  0.00341222,  0.00345547,  0.00341222,\n",
      "        0.00341512,  0.00338016,  0.00375218,  0.00338016,  0.00331808,\n",
      "        0.00361784,  0.00385628,  0.00348401,  0.00348401,  0.00359037,\n",
      "        0.00385628,  0.00365053,  0.00348401,  0.00361784,  0.00372304,\n",
      "        0.00348401,  0.00345834,  0.00359037,  0.00359037,  0.00361784,\n",
      "        0.00345834,  0.00348401,  0.00359037,  0.00375218,  0.00345834,\n",
      "        0.00348401,  0.00361784,  0.00348401,  0.00345834,  0.00348401,\n",
      "        0.00361784,  0.00361784,  0.00345834,  0.00348401,  0.00361784,\n",
      "        0.00375218,  0.00345834]), 'rank_test_score': array([50, 46, 50, 50, 47, 45, 47, 47, 44, 31, 43, 40, 40, 14, 40, 10, 22,\n",
      "       14, 22,  1, 22,  1, 31, 10, 14,  1, 31, 10, 22, 10, 31,  1, 14, 14,\n",
      "       22,  1, 31, 14, 14,  1, 31, 22, 31,  1, 31, 22, 22,  1, 31, 22, 14,\n",
      "        1]), 'split0_train_score': array([ 0.77955224,  0.81253731,  0.77955224,  0.77955224,  0.80985075,\n",
      "        0.81283582,  0.80985075,  0.80985075,  0.81492537,  0.81462687,\n",
      "        0.81492537,  0.81477612,  0.81507463,  0.81522388,  0.81507463,\n",
      "        0.81552239,  0.81552239,  0.81552239,  0.81552239,  0.81537313,\n",
      "        0.8158209 ,  0.81567164,  0.8158209 ,  0.81552239,  0.8161194 ,\n",
      "        0.8158209 ,  0.81597015,  0.81567164,  0.81597015,  0.81597015,\n",
      "        0.81597015,  0.8158209 ,  0.8161194 ,  0.81597015,  0.81626866,\n",
      "        0.8158209 ,  0.8161194 ,  0.81597015,  0.81626866,  0.8161194 ,\n",
      "        0.81597015,  0.81597015,  0.81626866,  0.8161194 ,  0.81597015,\n",
      "        0.81597015,  0.81626866,  0.81626866,  0.81597015,  0.8161194 ,\n",
      "        0.81626866,  0.81626866]), 'split1_train_score': array([ 0.77925373,  0.80343284,  0.77925373,  0.77925373,  0.79940299,\n",
      "        0.80238806,  0.79940299,  0.79940299,  0.80268657,  0.80358209,\n",
      "        0.80268657,  0.80283582,  0.80358209,  0.80358209,  0.80358209,\n",
      "        0.80358209,  0.80373134,  0.8038806 ,  0.8038806 ,  0.8038806 ,\n",
      "        0.8038806 ,  0.8038806 ,  0.8041791 ,  0.8041791 ,  0.80402985,\n",
      "        0.8038806 ,  0.80402985,  0.80432836,  0.80402985,  0.80402985,\n",
      "        0.80402985,  0.8041791 ,  0.80402985,  0.80402985,  0.80402985,\n",
      "        0.80432836,  0.80402985,  0.80402985,  0.80402985,  0.80432836,\n",
      "        0.80402985,  0.80402985,  0.80402985,  0.80432836,  0.80402985,\n",
      "        0.80402985,  0.80402985,  0.80432836,  0.80402985,  0.80402985,\n",
      "        0.80402985,  0.80432836]), 'split2_train_score': array([ 0.77955224,  0.80865672,  0.77955224,  0.77955224,  0.80820896,\n",
      "        0.81164179,  0.80820896,  0.80820896,  0.81208955,  0.81223881,\n",
      "        0.81208955,  0.81238806,  0.81283582,  0.81298507,  0.81298507,\n",
      "        0.81268657,  0.81313433,  0.81298507,  0.81313433,  0.81313433,\n",
      "        0.81313433,  0.81343284,  0.81313433,  0.81313433,  0.81343284,\n",
      "        0.81343284,  0.81328358,  0.81343284,  0.81343284,  0.81343284,\n",
      "        0.81343284,  0.81358209,  0.81343284,  0.81343284,  0.81328358,\n",
      "        0.81358209,  0.81358209,  0.81358209,  0.81343284,  0.81358209,\n",
      "        0.81358209,  0.81358209,  0.81328358,  0.81358209,  0.81358209,\n",
      "        0.81358209,  0.81343284,  0.81358209,  0.81358209,  0.81358209,\n",
      "        0.81343284,  0.81358209]), 'mean_train_score': array([ 0.77945274,  0.80820896,  0.77945274,  0.77945274,  0.8058209 ,\n",
      "        0.80895522,  0.8058209 ,  0.8058209 ,  0.8099005 ,  0.81014925,\n",
      "        0.8099005 ,  0.81      ,  0.81049751,  0.81059701,  0.81054726,\n",
      "        0.81059701,  0.81079602,  0.81079602,  0.81084577,  0.81079602,\n",
      "        0.81094527,  0.81099502,  0.81104478,  0.81094527,  0.81119403,\n",
      "        0.81104478,  0.81109453,  0.81114428,  0.81114428,  0.81114428,\n",
      "        0.81114428,  0.81119403,  0.81119403,  0.81114428,  0.81119403,\n",
      "        0.81124378,  0.81124378,  0.81119403,  0.81124378,  0.81134328,\n",
      "        0.81119403,  0.81119403,  0.81119403,  0.81134328,  0.81119403,\n",
      "        0.81119403,  0.81124378,  0.81139303,  0.81119403,  0.81124378,\n",
      "        0.81124378,  0.81139303]), 'std_train_score': array([ 0.00014072,  0.00373035,  0.00014072,  0.00014072,  0.00458738,\n",
      "        0.0046692 ,  0.00458738,  0.00458738,  0.00523075,  0.00474492,\n",
      "        0.00523075,  0.0051588 ,  0.00497463,  0.0050438 ,  0.00499845,\n",
      "        0.00509361,  0.00508972,  0.00499845,  0.00502069,  0.00497463,\n",
      "        0.00511447,  0.00511301,  0.00497711,  0.00488272,  0.00518321,\n",
      "        0.0051588 ,  0.00511447,  0.00490548,  0.0051362 ,  0.0051362 ,\n",
      "        0.0051362 ,  0.0050438 ,  0.00518321,  0.0051362 ,  0.00521036,\n",
      "        0.00497463,  0.00520513,  0.0051588 ,  0.00523075,  0.00506731,\n",
      "        0.0051588 ,  0.0051588 ,  0.00521036,  0.00506731,  0.0051588 ,\n",
      "        0.0051588 ,  0.00523075,  0.00511447,  0.0051588 ,  0.00520513,\n",
      "        0.00523075,  0.00511447])}\n",
      "LogisticRegression(C=0.2, class_weight=None, dual=False, fit_intercept=True,\n",
      "          intercept_scaling=1, max_iter=100, multi_class='ovr', n_jobs=1,\n",
      "          penalty='l2', random_state=None, solver='saga', tol=0.0001,\n",
      "          verbose=0, warm_start=False)\n"
     ]
    },
    {
     "name": "stderr",
     "output_type": "stream",
     "text": [
      "C:\\ProgramData\\Anaconda3\\lib\\site-packages\\sklearn\\linear_model\\sag.py:326: ConvergenceWarning: The max_iter was reached which means the coef_ did not converge\n",
      "  \"the coef_ did not converge\", ConvergenceWarning)\n",
      "C:\\ProgramData\\Anaconda3\\lib\\site-packages\\sklearn\\linear_model\\sag.py:326: ConvergenceWarning: The max_iter was reached which means the coef_ did not converge\n",
      "  \"the coef_ did not converge\", ConvergenceWarning)\n",
      "C:\\ProgramData\\Anaconda3\\lib\\site-packages\\sklearn\\linear_model\\sag.py:326: ConvergenceWarning: The max_iter was reached which means the coef_ did not converge\n",
      "  \"the coef_ did not converge\", ConvergenceWarning)\n",
      "C:\\ProgramData\\Anaconda3\\lib\\site-packages\\sklearn\\linear_model\\sag.py:326: ConvergenceWarning: The max_iter was reached which means the coef_ did not converge\n",
      "  \"the coef_ did not converge\", ConvergenceWarning)\n",
      "C:\\ProgramData\\Anaconda3\\lib\\site-packages\\sklearn\\linear_model\\sag.py:326: ConvergenceWarning: The max_iter was reached which means the coef_ did not converge\n",
      "  \"the coef_ did not converge\", ConvergenceWarning)\n",
      "C:\\ProgramData\\Anaconda3\\lib\\site-packages\\sklearn\\linear_model\\sag.py:326: ConvergenceWarning: The max_iter was reached which means the coef_ did not converge\n",
      "  \"the coef_ did not converge\", ConvergenceWarning)\n",
      "C:\\ProgramData\\Anaconda3\\lib\\site-packages\\sklearn\\linear_model\\sag.py:326: ConvergenceWarning: The max_iter was reached which means the coef_ did not converge\n",
      "  \"the coef_ did not converge\", ConvergenceWarning)\n",
      "C:\\ProgramData\\Anaconda3\\lib\\site-packages\\sklearn\\linear_model\\sag.py:326: ConvergenceWarning: The max_iter was reached which means the coef_ did not converge\n",
      "  \"the coef_ did not converge\", ConvergenceWarning)\n",
      "C:\\ProgramData\\Anaconda3\\lib\\site-packages\\sklearn\\linear_model\\sag.py:326: ConvergenceWarning: The max_iter was reached which means the coef_ did not converge\n",
      "  \"the coef_ did not converge\", ConvergenceWarning)\n",
      "C:\\ProgramData\\Anaconda3\\lib\\site-packages\\sklearn\\linear_model\\sag.py:326: ConvergenceWarning: The max_iter was reached which means the coef_ did not converge\n",
      "  \"the coef_ did not converge\", ConvergenceWarning)\n",
      "C:\\ProgramData\\Anaconda3\\lib\\site-packages\\sklearn\\linear_model\\sag.py:326: ConvergenceWarning: The max_iter was reached which means the coef_ did not converge\n",
      "  \"the coef_ did not converge\", ConvergenceWarning)\n",
      "C:\\ProgramData\\Anaconda3\\lib\\site-packages\\sklearn\\linear_model\\sag.py:326: ConvergenceWarning: The max_iter was reached which means the coef_ did not converge\n",
      "  \"the coef_ did not converge\", ConvergenceWarning)\n"
     ]
    },
    {
     "name": "stdout",
     "output_type": "stream",
     "text": [
      "LogisticRegression(C=3, class_weight=None, dual=False, fit_intercept=True,\n",
      "          intercept_scaling=1, max_iter=100, multi_class='ovr', n_jobs=1,\n",
      "          penalty='l2', random_state=None, solver='saga', tol=0.0001,\n",
      "          verbose=0, warm_start=False)\n"
     ]
    },
    {
     "name": "stderr",
     "output_type": "stream",
     "text": [
      "C:\\ProgramData\\Anaconda3\\lib\\site-packages\\sklearn\\linear_model\\sag.py:326: ConvergenceWarning: The max_iter was reached which means the coef_ did not converge\n",
      "  \"the coef_ did not converge\", ConvergenceWarning)\n"
     ]
    }
   ],
   "source": [
    "from sklearn.model_selection import GridSearchCV\n",
    "from sklearn.model_selection import RandomizedSearchCV\n",
    "# choosing hyper- for MLP\n",
    "parameters={\n",
    "    \"activation\":(\"identity\",\"logistic\",\"tanh\",\"relu\"),\n",
    "    \"solver\":(\"lbfgs\",\"sgd\",\"adam\")\n",
    "}\n",
    "model = MLPClassifier(random_state=4)\n",
    "nn1=GridSearchCV(model,parameters)\n",
    "nn1.fit( rXtrain , ytrain)\n",
    "print(nn1.cv_results_)\n",
    "print(nn1.best_estimator_)\n",
    "\n",
    "nn2=RandomizedSearchCV(model,parameters)\n",
    "nn2.fit( rXtrain , ytrain)\n",
    "# print(nn2.cv_results_)\n",
    "print(nn2.best_estimator_)\n",
    "\n",
    "# choosing hyper for logistic regression \n",
    "parameters2={\n",
    "    \"C\":[0.0001,0.01,0.05,0.1,0.2,0.3,0.6,0.8,1,2,3,4,5],\n",
    "    \"solver\" : (\"lbfgs\", \"liblinear\", \"sag\", \"saga\")\n",
    "}\n",
    "model = LogisticRegression()\n",
    "\n",
    "lr1=GridSearchCV(model,parameters2)\n",
    "lr1.fit( rXtrain , ytrain)\n",
    "print(lr1.cv_results_)\n",
    "print(lr1.best_estimator_)\n",
    "\n",
    "lr2=RandomizedSearchCV(model,parameters2)\n",
    "lr2.fit( rXtrain , ytrain)\n",
    "# print(lr2.cv_results_)\n",
    "print(lr2.best_estimator_)\n"
   ]
  },
  {
   "cell_type": "markdown",
   "metadata": {},
   "source": [
    "<p>\n",
    "<b>The best model of MLP is :</b>\n",
    "</p>\n",
    "<p>\n",
    "MLPClassifier(<u>activation='relu'</u>, alpha=0.0001, batch_size='auto', beta_1=0.9,\n",
    "       beta_2=0.999, early_stopping=False, epsilon=1e-08,\n",
    "       hidden_layer_sizes=(100,), learning_rate='constant',\n",
    "       learning_rate_init=0.001, max_iter=200, momentum=0.9,\n",
    "       nesterovs_momentum=True, power_t=0.5, random_state=4, shuffle=True,\n",
    "       <u>solver='sgd'</u>, tol=0.0001, validation_fraction=0.1, verbose=False,\n",
    "       warm_start=False)\n",
    "    \n",
    "</p>\n",
    "<p>\n",
    "<b>The best model of Logistic Regression is :</b>\n",
    "</p>\n",
    "<p>\n",
    "LogisticRegression(<u>C=3</u>, class_weight=None, dual=False, fit_intercept=True,\n",
    "          intercept_scaling=1, max_iter=100, multi_class='ovr', n_jobs=1,\n",
    "          penalty='l2', random_state=None, <u>solver='saga'</u>, tol=0.0001,\n",
    "          verbose=0, warm_start=False)\n",
    "</p>"
   ]
  },
  {
   "cell_type": "markdown",
   "metadata": {},
   "source": [
    "## 9. Explore feature selection "
   ]
  },
  {
   "cell_type": "markdown",
   "metadata": {},
   "source": [
    "I use L0-Regularization to do the feature selection."
   ]
  },
  {
   "cell_type": "code",
   "execution_count": 86,
   "metadata": {},
   "outputs": [
    {
     "name": "stderr",
     "output_type": "stream",
     "text": [
      "[Parallel(n_jobs=1)]: Done   1 out of   1 | elapsed:    0.0s remaining:    0.0s\n",
      "[Parallel(n_jobs=1)]: Done  23 out of  23 | elapsed:    1.5s finished\n",
      "\n",
      "[2018-04-02 20:18:49] Features: 1/23 -- score: 0.818656716418[Parallel(n_jobs=1)]: Done   1 out of   1 | elapsed:    0.0s remaining:    0.0s\n",
      "[Parallel(n_jobs=1)]: Done  22 out of  22 | elapsed:    1.7s finished\n",
      "\n",
      "[2018-04-02 20:18:51] Features: 2/23 -- score: 0.817164179104[Parallel(n_jobs=1)]: Done   1 out of   1 | elapsed:    0.0s remaining:    0.0s\n",
      "[Parallel(n_jobs=1)]: Done  21 out of  21 | elapsed:    1.7s finished\n",
      "\n",
      "[2018-04-02 20:18:52] Features: 3/23 -- score: 0.817263681592[Parallel(n_jobs=1)]: Done   1 out of   1 | elapsed:    0.0s remaining:    0.0s\n",
      "[Parallel(n_jobs=1)]: Done  20 out of  20 | elapsed:    1.9s finished\n",
      "\n",
      "[2018-04-02 20:18:54] Features: 4/23 -- score: 0.815970149254[Parallel(n_jobs=1)]: Done   1 out of   1 | elapsed:    0.0s remaining:    0.0s\n",
      "[Parallel(n_jobs=1)]: Done  19 out of  19 | elapsed:    1.9s finished\n",
      "\n",
      "[2018-04-02 20:18:56] Features: 5/23 -- score: 0.815273631841[Parallel(n_jobs=1)]: Done   1 out of   1 | elapsed:    0.0s remaining:    0.0s\n",
      "[Parallel(n_jobs=1)]: Done  18 out of  18 | elapsed:    2.0s finished\n",
      "\n",
      "[2018-04-02 20:18:58] Features: 6/23 -- score: 0.814825870647[Parallel(n_jobs=1)]: Done   1 out of   1 | elapsed:    0.0s remaining:    0.0s\n",
      "[Parallel(n_jobs=1)]: Done  17 out of  17 | elapsed:    2.1s finished\n",
      "\n",
      "[2018-04-02 20:19:01] Features: 7/23 -- score: 0.813930348259[Parallel(n_jobs=1)]: Done   1 out of   1 | elapsed:    0.1s remaining:    0.0s\n",
      "[Parallel(n_jobs=1)]: Done  16 out of  16 | elapsed:    2.5s finished\n",
      "\n",
      "[2018-04-02 20:19:03] Features: 8/23 -- score: 0.813432835821[Parallel(n_jobs=1)]: Done   1 out of   1 | elapsed:    0.1s remaining:    0.0s\n",
      "[Parallel(n_jobs=1)]: Done  15 out of  15 | elapsed:    2.5s finished\n",
      "\n",
      "[2018-04-02 20:19:06] Features: 9/23 -- score: 0.812537313433[Parallel(n_jobs=1)]: Done   1 out of   1 | elapsed:    0.1s remaining:    0.0s\n",
      "[Parallel(n_jobs=1)]: Done  14 out of  14 | elapsed:    2.5s finished\n",
      "\n",
      "[2018-04-02 20:19:09] Features: 10/23 -- score: 0.811990049751[Parallel(n_jobs=1)]: Done   1 out of   1 | elapsed:    0.1s remaining:    0.0s\n",
      "[Parallel(n_jobs=1)]: Done  13 out of  13 | elapsed:    2.6s finished\n",
      "\n",
      "[2018-04-02 20:19:11] Features: 11/23 -- score: 0.812089552239[Parallel(n_jobs=1)]: Done   1 out of   1 | elapsed:    0.1s remaining:    0.0s\n",
      "[Parallel(n_jobs=1)]: Done  12 out of  12 | elapsed:    2.4s finished\n",
      "\n",
      "[2018-04-02 20:19:14] Features: 12/23 -- score: 0.812985074627[Parallel(n_jobs=1)]: Done   1 out of   1 | elapsed:    0.1s remaining:    0.0s\n",
      "[Parallel(n_jobs=1)]: Done  11 out of  11 | elapsed:    2.4s finished\n",
      "\n",
      "[2018-04-02 20:19:16] Features: 13/23 -- score: 0.813233830846[Parallel(n_jobs=1)]: Done   1 out of   1 | elapsed:    0.1s remaining:    0.0s\n",
      "[Parallel(n_jobs=1)]: Done  10 out of  10 | elapsed:    2.4s finished\n",
      "\n",
      "[2018-04-02 20:19:19] Features: 14/23 -- score: 0.812587064677[Parallel(n_jobs=1)]: Done   1 out of   1 | elapsed:    0.1s remaining:    0.0s\n",
      "[Parallel(n_jobs=1)]: Done   9 out of   9 | elapsed:    2.0s finished\n",
      "\n",
      "[2018-04-02 20:19:21] Features: 15/23 -- score: 0.812089552239[Parallel(n_jobs=1)]: Done   1 out of   1 | elapsed:    0.2s remaining:    0.0s\n",
      "[Parallel(n_jobs=1)]: Done   8 out of   8 | elapsed:    2.2s finished\n",
      "\n",
      "[2018-04-02 20:19:23] Features: 16/23 -- score: 0.812039800995[Parallel(n_jobs=1)]: Done   1 out of   1 | elapsed:    0.2s remaining:    0.0s\n",
      "[Parallel(n_jobs=1)]: Done   7 out of   7 | elapsed:    2.2s finished\n",
      "\n",
      "[2018-04-02 20:19:26] Features: 17/23 -- score: 0.811890547264[Parallel(n_jobs=1)]: Done   1 out of   1 | elapsed:    0.3s remaining:    0.0s\n",
      "[Parallel(n_jobs=1)]: Done   6 out of   6 | elapsed:    2.1s finished\n",
      "\n",
      "[2018-04-02 20:19:28] Features: 18/23 -- score: 0.811890547264[Parallel(n_jobs=1)]: Done   1 out of   1 | elapsed:    0.3s remaining:    0.0s\n",
      "[Parallel(n_jobs=1)]: Done   5 out of   5 | elapsed:    1.9s finished\n",
      "\n",
      "[2018-04-02 20:19:30] Features: 19/23 -- score: 0.811592039801[Parallel(n_jobs=1)]: Done   1 out of   1 | elapsed:    0.4s remaining:    0.0s\n",
      "[Parallel(n_jobs=1)]: Done   4 out of   4 | elapsed:    1.7s finished\n",
      "\n",
      "[2018-04-02 20:19:32] Features: 20/23 -- score: 0.811243781095[Parallel(n_jobs=1)]: Done   1 out of   1 | elapsed:    0.4s remaining:    0.0s\n",
      "[Parallel(n_jobs=1)]: Done   3 out of   3 | elapsed:    1.4s finished\n",
      "\n",
      "[2018-04-02 20:19:33] Features: 21/23 -- score: 0.810746268657[Parallel(n_jobs=1)]: Done   1 out of   1 | elapsed:    0.4s remaining:    0.0s\n",
      "[Parallel(n_jobs=1)]: Done   2 out of   2 | elapsed:    0.9s finished\n",
      "\n",
      "[2018-04-02 20:19:34] Features: 22/23 -- score: 0.810547263682"
     ]
    },
    {
     "name": "stdout",
     "output_type": "stream",
     "text": [
      "0.819701492537\n",
      "the best score is : 0.81970, with 1 features selected \n",
      "The selected features are [(5,)]\n"
     ]
    },
    {
     "name": "stderr",
     "output_type": "stream",
     "text": [
      "[Parallel(n_jobs=1)]: Done   1 out of   1 | elapsed:    0.4s remaining:    0.0s\n",
      "[Parallel(n_jobs=1)]: Done   1 out of   1 | elapsed:    0.4s finished\n",
      "\n",
      "[2018-04-02 20:19:35] Features: 23/23 -- score: 0.810199004975"
     ]
    }
   ],
   "source": [
    "from sklearn.linear_model import LogisticRegression\n",
    "from mlxtend.feature_selection import SequentialFeatureSelector as SFS\n",
    "# forward feature selection\n",
    "model = LogisticRegression(fit_intercept=True)\n",
    "score=[]\n",
    "\n",
    "sfs = SFS(model, \n",
    "    k_features=23,\n",
    "    forward=True, \n",
    "    floating=False, \n",
    "    verbose=2,\n",
    "    scoring='accuracy',\n",
    "    cv=2)\n",
    "sfs=sfs.fit(rXtrainvalid,y_train_vali)\n",
    "\n",
    "# print(sfs.subsets_)\n",
    "avg_score=[sfs.subsets_[i][\"avg_score\"] for i in range(1,24)]\n",
    "p=avg_score.index(np.max(avg_score))+1\n",
    "model.fit(Xtrain[:,sfs.subsets_[p][\"feature_idx\"]],ytrain)\n",
    "score=model.score(Xvalid[:,sfs.subsets_[p][\"feature_idx\"]],yvalid)\n",
    "print(score)\n",
    "print(\"the best score is : %.5f, with %s features selected \"% (score,p))\n",
    "print(\"The selected features are %s\"% [sfs.subsets_[p][\"feature_idx\"]])\n",
    "\n"
   ]
  },
  {
   "cell_type": "markdown",
   "metadata": {},
   "source": [
    "<p>the best score using forward feature selection is : <b>0.81970</b>, with <b>1</b> features selected</p> \n",
    "<p>The selected features are <b>[(5,)]</b></p>"
   ]
  },
  {
   "cell_type": "code",
   "execution_count": 85,
   "metadata": {},
   "outputs": [
    {
     "name": "stdout",
     "output_type": "stream",
     "text": [
      "1\n",
      "[False False False False False  True False False False False False False\n",
      " False False False False False False False False False False False]\n",
      "[ 9 17 12 10 11  1  8  3 14 21 18  4  7  5 23 20 22  6  2 13 19 16 15]\n",
      "(10050, 23)\n",
      "(10050, 1)\n",
      "0.819701492537\n",
      "the best score is : 0.81970, with 1 features selected \n",
      "The selected features are [(array([5], dtype=int64),)]\n"
     ]
    }
   ],
   "source": [
    "from sklearn.model_selection import StratifiedKFold\n",
    "from sklearn.feature_selection import RFECV\n",
    "#recursive feature elimination with cv \n",
    "model = LogisticRegression(fit_intercept=True)\n",
    "\n",
    "rfecv = RFECV(estimator=model, step=1, cv=StratifiedKFold(2),\n",
    "              scoring='accuracy')\n",
    "rfecv=rfecv.fit(rXtrainvalid,y_train_vali)\n",
    "print(rfecv.n_features_)\n",
    "print(rfecv.support_)\n",
    "print(rfecv.ranking_)\n",
    "selected_features=np.where(rfecv.ranking_==1)\n",
    "print(Xtrain.shape)\n",
    "print(Xtrain[:,rfecv.ranking_==1].shape)\n",
    "model.fit(Xtrain[:,rfecv.ranking_==1],ytrain)\n",
    "score=model.score(Xvalid[:,rfecv.ranking_==1],yvalid)\n",
    "print(score)\n",
    "print(\"the best score is : %.5f, with %s features selected \"% (score,rfecv.n_features_))\n",
    "print(\"The selected features are %s\"% [selected_features])\n"
   ]
  },
  {
   "cell_type": "markdown",
   "metadata": {},
   "source": [
    "The best score using recursive feature elimination with cross validation is : <b>0.81970</b>, with <b>1</b> features selected <br>\n",
    "The selected features are [<b>[5, ]</b>]"
   ]
  },
  {
   "cell_type": "markdown",
   "metadata": {},
   "source": [
    "## 10. The best model"
   ]
  },
  {
   "cell_type": "code",
   "execution_count": 87,
   "metadata": {},
   "outputs": [
    {
     "name": "stdout",
     "output_type": "stream",
     "text": [
      "The accuracy (validation set) with the best model of Logistic Regression is 0.820:\n",
      "The corresponding validation error is 0.180\n",
      "The accuracy (test set) with the best model of Logistic Regression is 0.822:\n",
      "The corresponding test error is 0.178\n"
     ]
    }
   ],
   "source": [
    "chosen_features=sfs.subsets_[p][\"feature_idx\"]\n",
    "model=lr2.best_estimator_\n",
    "model.fit(rXtrain[:,chosen_features],ytrain)\n",
    "score=model.score(rXvalid[:,chosen_features],yvalid)\n",
    "\n",
    "test_score=model.score(rXtest[:,chosen_features],ytest)\n",
    "print(\"The accuracy (validation set) with the best model of Logistic Regression is %.3f:\"%score)\n",
    "print(\"The corresponding validation error is %.3f\"%(1-score))\n",
    "print(\"The accuracy (test set) with the best model of Logistic Regression is %.3f:\"%test_score)\n",
    "print(\"The corresponding test error is %.3f\"%(1-test_score))"
   ]
  },
  {
   "cell_type": "markdown",
   "metadata": {},
   "source": [
    "<p>The best model is chosen as the result of question 8 and the result of question 9 is used as the features.The dataset are standarized.</p>\n",
    "<p>\n",
    "The accuracy (validation set) with the best model of Logistic Regression is 0.820:\n",
    "The corresponding validation error is 0.180\n",
    "</p><p>\n",
    "The accuracy (test set) with the best model of Logistic Regression is 0.822:\n",
    "The corresponding test error is 0.178\n",
    "</p>"
   ]
  },
  {
   "cell_type": "markdown",
   "metadata": {},
   "source": [
    "## Exercise 3: Very short answer questions\n",
    "rubric={reasoning:7}\n",
    "\n",
    "1. Why is it difficult for a standard collaborative filtering model to make good predictions for new items?\n",
    "2. Consider a fully connected neural network with layer sizes (10,20,20,5); that is, the input dimensionality is 10, there are two hidden layers each of size 20, and the output dimensionality is 5. How many parameters does the network have, including biases?\n",
    "3. Why do we need nonlinear activation functions in neural networks?\n",
    "4. Assuming we could globally minimize the neural network objectve, how does the depth of a neural network affect the fundamental trade-off?\n",
    "5. List 3 forms of regularization we use to prevent overfitting in neural networks.\n",
    "6. Assuming we could globally minimize the neural network objectve, how would the size of the filters in a convolutational neural network affect the fundamental trade-off?\n",
    "7. Why do people say convolutional neural networks just a special case of a fully-connected (regular) neural networks? What does this imply about the number of learned parameters?\n"
   ]
  },
  {
   "cell_type": "markdown",
   "metadata": {
    "collapsed": true
   },
   "source": [
    "<h3>_Answer:_</h3>\n",
    "\n",
    "1. In Netflix prize, collaborative filtering only looks at ratings to make predictions, not features of movies/users. However, new items may have few or no ratings available. Hence, it is hard to predict on new items.\n",
    "\n",
    "2. In the learning process, we want to find the weights and biases. So the parameters include weights and biases. <br>\n",
    "From the first layer to second layer, we have $10\\times20$ weights and 20 biases.<br>\n",
    "From the second layer to third layer, we have $20\\times20$ weights and 20 biases.<br>\n",
    "From the third layer to last layer, we have $5\\times20$ weights and 5 biases.<br>\n",
    "Overall, we have 700 weights and 45 biases.\n",
    "\n",
    "3. Without introducing non-linear activation function, all we have is the linear latent-factor model with linear regression. This is just a linear model, and we cannot deal with non-linear situation with this model.<br>\n",
    "Therefore, we need non-linear function to increase flexibility.\n",
    "\n",
    "4. The depth of a neural network is subject to the fundamental trade-off.<br>\n",
    "As the depth increases, the training error will go down, while the approximation error will go up.\n",
    "\n",
    "5. The standard regularization.<br>\n",
    "Early stopping.<br>\n",
    "Dropout.<br>\n",
    "\n",
    "6. As the width incerases, the training error will go down, while the approximation error will go up.\n",
    "\n",
    "7. Because in convolutional neural network, it firstly has the usual neural network layer with unrestricted W, and then restricts W to results of several convolutions.<br>\n",
    "CNN drastically reduces the number of parameters.\n"
   ]
  },
  {
   "cell_type": "code",
   "execution_count": null,
   "metadata": {
    "collapsed": true
   },
   "outputs": [],
   "source": []
  }
 ],
 "metadata": {
  "anaconda-cloud": {},
  "kernelspec": {
   "display_name": "Python 3",
   "language": "python",
   "name": "python3"
  },
  "language_info": {
   "codemirror_mode": {
    "name": "ipython",
    "version": 3
   },
   "file_extension": ".py",
   "mimetype": "text/x-python",
   "name": "python",
   "nbconvert_exporter": "python",
   "pygments_lexer": "ipython3",
   "version": "3.6.3"
  }
 },
 "nbformat": 4,
 "nbformat_minor": 2
}
