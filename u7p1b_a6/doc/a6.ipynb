{
 "cells": [
  {
   "cell_type": "markdown",
   "metadata": {},
   "source": [
    "# CPSC 340 Assignment 6"
   ]
  },
  {
   "cell_type": "code",
<<<<<<< HEAD
   "execution_count": 2,
=======
   "execution_count": 7,
>>>>>>> 114e3df9bcd4a1a568d2c32d292f3566c868a283
   "metadata": {
    "collapsed": true
   },
   "outputs": [],
   "source": [
    "import os\n",
    "import numpy as np\n",
    "import pandas as pd\n",
    "import matplotlib.pyplot as plt\n",
    "%matplotlib inline\n",
    "\n",
    "from scipy.sparse import csr_matrix as sparse_matrix\n",
    "\n",
    "from sklearn.neighbors import NearestNeighbors\n",
    "from sklearn.decomposition import TruncatedSVD"
   ]
  },
  {
   "cell_type": "markdown",
   "metadata": {},
   "source": [
    "## Instructions\n",
    "rubric={mechanics:5}\n",
    "\n",
    "\n",
    "The above points are allocated for following the [homework submission instructions](https://github.ugrad.cs.ubc.ca/CPSC340-2017W-T2/home/blob/master/homework_instructions.md)."
   ]
  },
  {
   "cell_type": "markdown",
   "metadata": {},
   "source": [
    "## Exercise 1: Finding similar items\n",
    "\n",
    "For this question we'll be using the [Amazon product data set](http://jmcauley.ucsd.edu/data/amazon/). The author of the data set has asked for the following citations:\n",
    "\n",
    "> Ups and downs: Modeling the visual evolution of fashion trends with one-class collaborative filtering.\n",
    "> R. He, J. McAuley.\n",
    "> WWW, 2016.\n",
    "> \n",
    "> Image-based recommendations on styles and substitutes.\n",
    "> J. McAuley, C. Targett, J. Shi, A. van den Hengel.\n",
    "> SIGIR, 2015.\n",
    "\n",
    "We will focus on the \"Patio, Lawn, and Garden\" section. Download the [ratings](http://snap.stanford.edu/data/amazon/productGraph/categoryFiles/ratings_Patio_Lawn_and_Garden.csv) and place the file in the `data` directory with the original filename. Once you do that, the code below should load the data:"
   ]
  },
  {
   "cell_type": "code",
<<<<<<< HEAD
   "execution_count": 3,
=======
   "execution_count": 2,
>>>>>>> 114e3df9bcd4a1a568d2c32d292f3566c868a283
   "metadata": {},
   "outputs": [
    {
     "data": {
      "text/html": [
       "<div>\n",
<<<<<<< HEAD
       "<style>\n",
       "    .dataframe thead tr:only-child th {\n",
       "        text-align: right;\n",
       "    }\n",
       "\n",
       "    .dataframe thead th {\n",
       "        text-align: left;\n",
       "    }\n",
       "\n",
       "    .dataframe tbody tr th {\n",
       "        vertical-align: top;\n",
       "    }\n",
       "</style>\n",
=======
>>>>>>> 114e3df9bcd4a1a568d2c32d292f3566c868a283
       "<table border=\"1\" class=\"dataframe\">\n",
       "  <thead>\n",
       "    <tr style=\"text-align: right;\">\n",
       "      <th></th>\n",
       "      <th>user</th>\n",
       "      <th>item</th>\n",
       "      <th>rating</th>\n",
       "      <th>timestamp</th>\n",
       "    </tr>\n",
       "  </thead>\n",
       "  <tbody>\n",
       "    <tr>\n",
       "      <th>0</th>\n",
       "      <td>A2VNYWOPJ13AFP</td>\n",
       "      <td>0981850006</td>\n",
       "      <td>5.0</td>\n",
       "      <td>1259798400</td>\n",
       "    </tr>\n",
       "    <tr>\n",
       "      <th>1</th>\n",
       "      <td>A20DWVV8HML3AW</td>\n",
       "      <td>0981850006</td>\n",
       "      <td>5.0</td>\n",
       "      <td>1371081600</td>\n",
       "    </tr>\n",
       "    <tr>\n",
       "      <th>2</th>\n",
       "      <td>A3RVP3YBYYOPRH</td>\n",
       "      <td>0981850006</td>\n",
       "      <td>5.0</td>\n",
       "      <td>1257984000</td>\n",
       "    </tr>\n",
       "    <tr>\n",
       "      <th>3</th>\n",
       "      <td>A28XY55TP3Q90O</td>\n",
       "      <td>0981850006</td>\n",
       "      <td>5.0</td>\n",
       "      <td>1314144000</td>\n",
       "    </tr>\n",
       "    <tr>\n",
       "      <th>4</th>\n",
       "      <td>A3VZW1BGUQO0V3</td>\n",
       "      <td>0981850006</td>\n",
       "      <td>5.0</td>\n",
       "      <td>1308268800</td>\n",
       "    </tr>\n",
       "  </tbody>\n",
       "</table>\n",
       "</div>"
      ],
      "text/plain": [
       "             user        item  rating   timestamp\n",
       "0  A2VNYWOPJ13AFP  0981850006     5.0  1259798400\n",
       "1  A20DWVV8HML3AW  0981850006     5.0  1371081600\n",
       "2  A3RVP3YBYYOPRH  0981850006     5.0  1257984000\n",
       "3  A28XY55TP3Q90O  0981850006     5.0  1314144000\n",
       "4  A3VZW1BGUQO0V3  0981850006     5.0  1308268800"
      ]
     },
<<<<<<< HEAD
     "execution_count": 3,
=======
     "execution_count": 2,
>>>>>>> 114e3df9bcd4a1a568d2c32d292f3566c868a283
     "metadata": {},
     "output_type": "execute_result"
    }
   ],
   "source": [
    "filename = \"ratings_Patio_Lawn_and_Garden.csv\"\n",
    "\n",
    "with open(os.path.join(\"..\", \"data\", filename), \"rb\") as f:\n",
    "    ratings = pd.read_csv(f,names=(\"user\",\"item\",\"rating\",\"timestamp\"))\n",
    "ratings.head()"
   ]
  },
  {
   "cell_type": "markdown",
   "metadata": {},
   "source": [
    "We'd also like to construct the user-product matrix `X`. Let's see how big it would be:"
   ]
  },
  {
   "cell_type": "code",
<<<<<<< HEAD
   "execution_count": 4,
=======
   "execution_count": 3,
>>>>>>> 114e3df9bcd4a1a568d2c32d292f3566c868a283
   "metadata": {},
   "outputs": [
    {
     "name": "stdout",
     "output_type": "stream",
     "text": [
      "Number of ratings: 993490\n",
      "The average rating: 4.006400668350965\n",
      "Number of users: 714791\n",
      "Number of items: 105984\n",
      "Fraction nonzero: 1.3114269915944552e-05\n",
      "Size of full X matrix: 606.05 GB\n"
     ]
    }
   ],
   "source": [
    "def get_stats(ratings, item_key=\"item\", user_key=\"user\"):\n",
    "    print(\"Number of ratings:\", len(ratings))\n",
    "    print(\"The average rating:\", np.mean(ratings[\"rating\"]))\n",
    "\n",
    "    d = len(set(ratings[item_key]))\n",
    "    n = len(set(ratings[user_key]))\n",
    "    print(\"Number of users:\", n)\n",
    "    print(\"Number of items:\", d)\n",
    "    print(\"Fraction nonzero:\", len(ratings)/(n*d))\n",
    "    print(\"Size of full X matrix: %.2f GB\" % ((n*d)*8/1e9))\n",
<<<<<<< HEAD
=======
    "\n",
>>>>>>> 114e3df9bcd4a1a568d2c32d292f3566c868a283
    "    return n,d\n",
    "\n",
    "n,d = get_stats(ratings)"
   ]
  },
  {
   "cell_type": "markdown",
   "metadata": {},
   "source": [
    "600 GB! That is way too big. We don't want to create that matrix. On the other hand, we see that we only have about 1 million ratings, which would be around 8 MB ($10^6$ numbers $\\times$ at 8 bytes per double precision floating point number). Much more manageable. "
   ]
  },
  {
   "cell_type": "code",
<<<<<<< HEAD
   "execution_count": 5,
=======
   "execution_count": 4,
>>>>>>> 114e3df9bcd4a1a568d2c32d292f3566c868a283
   "metadata": {
    "collapsed": true
   },
   "outputs": [],
   "source": [
    "def create_X(ratings,n,d,user_key=\"user\",item_key=\"item\"):\n",
    "    user_mapper = dict(zip(np.unique(ratings[user_key]), list(range(n))))\n",
    "    item_mapper = dict(zip(np.unique(ratings[item_key]), list(range(d))))\n",
    "\n",
    "    user_inverse_mapper = dict(zip(list(range(n)), np.unique(ratings[user_key])))\n",
    "    item_inverse_mapper = dict(zip(list(range(d)), np.unique(ratings[item_key])))\n",
    "\n",
    "    user_ind = [user_mapper[i] for i in ratings[user_key]]\n",
    "    item_ind = [item_mapper[i] for i in ratings[item_key]]\n",
    "\n",
    "    X = sparse_matrix((ratings[\"rating\"], (user_ind, item_ind)), shape=(n,d))\n",
    "    \n",
    "    return X, user_mapper, item_mapper, user_inverse_mapper, item_inverse_mapper, user_ind, item_ind\n",
    "\n",
    "X, user_mapper, item_mapper, user_inverse_mapper, item_inverse_mapper, user_ind, item_ind = create_X(ratings, n, d)"
   ]
  },
  {
   "cell_type": "code",
<<<<<<< HEAD
   "execution_count": 6,
=======
   "execution_count": 5,
>>>>>>> 114e3df9bcd4a1a568d2c32d292f3566c868a283
   "metadata": {},
   "outputs": [
    {
     "name": "stdout",
     "output_type": "stream",
     "text": [
      "(714791, 105984)\n",
      "993490\n"
     ]
    }
   ],
   "source": [
    "# sanity check\n",
    "print(X.shape) # should be number of users by number of items\n",
    "print(X.nnz)   # number of nonzero elements -- should equal number of ratings"
   ]
  },
  {
   "cell_type": "code",
<<<<<<< HEAD
   "execution_count": 7,
=======
   "execution_count": 6,
>>>>>>> 114e3df9bcd4a1a568d2c32d292f3566c868a283
   "metadata": {},
   "outputs": [
    {
     "data": {
      "text/plain": [
       "7947920"
      ]
     },
<<<<<<< HEAD
     "execution_count": 7,
=======
     "execution_count": 6,
>>>>>>> 114e3df9bcd4a1a568d2c32d292f3566c868a283
     "metadata": {},
     "output_type": "execute_result"
    }
   ],
   "source": [
    "X.data.nbytes"
   ]
  },
  {
   "cell_type": "markdown",
   "metadata": {},
   "source": [
    "(Above: verifying our estimate of 8 MB to store sparse `X`)"
   ]
  },
  {
   "cell_type": "markdown",
   "metadata": {},
   "source": [
    "### 1.1\n",
    "rubric={reasoning:2}\n",
    "\n",
    "Find the following items:\n",
    "\n",
    "1. the item with the most reviews\n",
    "2. the item with the most total stars\n",
    "3. the item with the highest average stars\n",
    "\n",
    "Then, find the names of these items by looking them up with the url https://www.amazon.com/dp/ITEM_ID, where `ITEM_ID` is the id of the item."
   ]
  },
  {
   "cell_type": "code",
<<<<<<< HEAD
   "execution_count": 10,
=======
   "execution_count": 11,
>>>>>>> 114e3df9bcd4a1a568d2c32d292f3566c868a283
   "metadata": {},
   "outputs": [
    {
     "name": "stdout",
     "output_type": "stream",
     "text": [
      "https://www.amazon.com/dp/B00CFM0P7Y\n"
     ]
    }
   ],
   "source": [
    "url_amazon = \"https://www.amazon.com/dp/%s\"\n",
    "\n",
    "# example:\n",
    "print(url_amazon % 'B00CFM0P7Y')"
   ]
  },
  {
   "cell_type": "code",
<<<<<<< HEAD
   "execution_count": 9,
   "metadata": {},
   "outputs": [
    {
     "name": "stdout",
     "output_type": "stream",
     "text": [
      "[('B000HCLLMM', 3180)]\n"
     ]
    },
    {
     "ename": "KeyboardInterrupt",
     "evalue": "",
     "output_type": "error",
     "traceback": [
      "\u001b[1;31m---------------------------------------------------------------------------\u001b[0m",
      "\u001b[1;31mKeyboardInterrupt\u001b[0m                         Traceback (most recent call last)",
      "\u001b[1;32m<ipython-input-9-d418f00e8dbe>\u001b[0m in \u001b[0;36m<module>\u001b[1;34m()\u001b[0m\n\u001b[0;32m     11\u001b[0m     \u001b[0mstrI\u001b[0m\u001b[1;33m=\u001b[0m\u001b[0mstr\u001b[0m\u001b[1;33m(\u001b[0m\u001b[0mi\u001b[0m\u001b[1;33m)\u001b[0m\u001b[1;33m\u001b[0m\u001b[0m\n\u001b[0;32m     12\u001b[0m \u001b[1;31m#     print(strI)\u001b[0m\u001b[1;33m\u001b[0m\u001b[1;33m\u001b[0m\u001b[0m\n\u001b[1;32m---> 13\u001b[1;33m     \u001b[0mindex\u001b[0m\u001b[1;33m=\u001b[0m\u001b[0mX\u001b[0m\u001b[1;33m[\u001b[0m\u001b[1;33m:\u001b[0m\u001b[1;33m,\u001b[0m\u001b[0mi\u001b[0m\u001b[1;33m]\u001b[0m\u001b[1;33m.\u001b[0m\u001b[0mnonzero\u001b[0m\u001b[1;33m(\u001b[0m\u001b[1;33m)\u001b[0m\u001b[1;33m\u001b[0m\u001b[0m\n\u001b[0m\u001b[0;32m     14\u001b[0m     \u001b[0mtStar\u001b[0m\u001b[1;33m=\u001b[0m\u001b[0mnp\u001b[0m\u001b[1;33m.\u001b[0m\u001b[0msum\u001b[0m\u001b[1;33m(\u001b[0m\u001b[0mX\u001b[0m\u001b[1;33m[\u001b[0m\u001b[0mindex\u001b[0m\u001b[1;33m,\u001b[0m\u001b[0mi\u001b[0m\u001b[1;33m]\u001b[0m\u001b[1;33m)\u001b[0m\u001b[1;33m\u001b[0m\u001b[0m\n\u001b[0;32m     15\u001b[0m     \u001b[0mtAver\u001b[0m\u001b[1;33m=\u001b[0m\u001b[0mtStar\u001b[0m\u001b[1;33m/\u001b[0m\u001b[0mlen\u001b[0m\u001b[1;33m(\u001b[0m\u001b[0mindex\u001b[0m\u001b[1;33m)\u001b[0m\u001b[1;33m\u001b[0m\u001b[0m\n",
      "\u001b[1;32mC:\\ProgramData\\Anaconda3\\lib\\site-packages\\scipy\\sparse\\csr.py\u001b[0m in \u001b[0;36m__getitem__\u001b[1;34m(self, key)\u001b[0m\n\u001b[0;32m    302\u001b[0m                      row.step in (1, None))):\n\u001b[0;32m    303\u001b[0m                 \u001b[1;31m# col is int or slice with step 1, row is slice with step 1.\u001b[0m\u001b[1;33m\u001b[0m\u001b[1;33m\u001b[0m\u001b[0m\n\u001b[1;32m--> 304\u001b[1;33m                 \u001b[1;32mreturn\u001b[0m \u001b[0mself\u001b[0m\u001b[1;33m.\u001b[0m\u001b[0m_get_submatrix\u001b[0m\u001b[1;33m(\u001b[0m\u001b[0mrow\u001b[0m\u001b[1;33m,\u001b[0m \u001b[0mcol\u001b[0m\u001b[1;33m)\u001b[0m\u001b[1;33m\u001b[0m\u001b[0m\n\u001b[0m\u001b[0;32m    305\u001b[0m             \u001b[1;32melif\u001b[0m \u001b[0missequence\u001b[0m\u001b[1;33m(\u001b[0m\u001b[0mcol\u001b[0m\u001b[1;33m)\u001b[0m\u001b[1;33m:\u001b[0m\u001b[1;33m\u001b[0m\u001b[0m\n\u001b[0;32m    306\u001b[0m                 \u001b[1;31m# row is slice, col is sequence.\u001b[0m\u001b[1;33m\u001b[0m\u001b[1;33m\u001b[0m\u001b[0m\n",
      "\u001b[1;32mC:\\ProgramData\\Anaconda3\\lib\\site-packages\\scipy\\sparse\\csr.py\u001b[0m in \u001b[0;36m_get_submatrix\u001b[1;34m(self, row_slice, col_slice)\u001b[0m\n\u001b[0;32m    450\u001b[0m         indptr, indices, data = get_csr_submatrix(M, N,\n\u001b[0;32m    451\u001b[0m                 \u001b[0mself\u001b[0m\u001b[1;33m.\u001b[0m\u001b[0mindptr\u001b[0m\u001b[1;33m,\u001b[0m \u001b[0mself\u001b[0m\u001b[1;33m.\u001b[0m\u001b[0mindices\u001b[0m\u001b[1;33m,\u001b[0m \u001b[0mself\u001b[0m\u001b[1;33m.\u001b[0m\u001b[0mdata\u001b[0m\u001b[1;33m,\u001b[0m\u001b[1;33m\u001b[0m\u001b[0m\n\u001b[1;32m--> 452\u001b[1;33m                 int(i0), int(i1), int(j0), int(j1))\n\u001b[0m\u001b[0;32m    453\u001b[0m \u001b[1;33m\u001b[0m\u001b[0m\n\u001b[0;32m    454\u001b[0m         \u001b[0mshape\u001b[0m \u001b[1;33m=\u001b[0m \u001b[1;33m(\u001b[0m\u001b[0mi1\u001b[0m \u001b[1;33m-\u001b[0m \u001b[0mi0\u001b[0m\u001b[1;33m,\u001b[0m \u001b[0mj1\u001b[0m \u001b[1;33m-\u001b[0m \u001b[0mj0\u001b[0m\u001b[1;33m)\u001b[0m\u001b[1;33m\u001b[0m\u001b[0m\n",
      "\u001b[1;31mKeyboardInterrupt\u001b[0m: "
     ]
    }
   ],
   "source": [
    "### YOUR CODE HERE ###\n",
    "from collections import Counter\n",
    "user,item = X.nonzero()\n",
    "new_n = len(user)\n",
    "nonzero_review_item = Counter(item).most_common()\n",
    "top_one_item = nonzero_review_item[0]\n",
    "print(top_one_item)\n",
    "\n",
    "star=0\n",
    "average=0\n",
    "for i in range(d):\n",
    "    strI=str(i)\n",
    "#     print(strI)\n",
    "    index=X[:,i].nonzero()\n",
    "    tStar=np.sum(X[index,i])\n",
    "    tAver=tStar/len(index)\n",
    "    if(tStar>star):\n",
    "        star=tStar\n",
    "        item_most_star=i\n",
    "        item_most_star=item_inverse_mapper[item_ind[i]]\n",
    "    if(tAver>average):\n",
    "        average=tAver\n",
    "        item_highest_aver=i\n",
    "        item_highest_aver=item_inverse_mapper[item_ind[i]]\n",
    "print(star, average, item_most_star,item_highest_aver)\n",
    "\n",
    "    \n"
=======
   "execution_count": 1,
   "metadata": {},
   "outputs": [],
   "source": [
    "### YOUR CODE HERE ###"
>>>>>>> 114e3df9bcd4a1a568d2c32d292f3566c868a283
   ]
  },
  {
   "cell_type": "markdown",
   "metadata": {},
   "source": [
    "### 1.2\n",
    "rubric={reasoning:2}"
   ]
  },
  {
   "cell_type": "markdown",
   "metadata": {},
   "source": [
    "Make the following histograms \n",
    "\n",
    "1. The number of ratings per user\n",
    "2. The number of ratings per item\n",
    "3. The ratings themselves\n",
    "\n",
    "For the first two, use\n",
    "```\n",
    "plt.yscale('log', nonposy='clip')\n",
    "``` \n",
    "to put the histograms on a log-scale."
   ]
  },
  {
   "cell_type": "code",
<<<<<<< HEAD
   "execution_count": 32,
   "metadata": {},
   "outputs": [
    {
     "ename": "KeyboardInterrupt",
     "evalue": "",
     "output_type": "error",
     "traceback": [
      "\u001b[1;31m---------------------------------------------------------------------------\u001b[0m",
      "\u001b[1;31mKeyboardInterrupt\u001b[0m                         Traceback (most recent call last)",
      "\u001b[1;32m<ipython-input-32-7ee5ba4d52f0>\u001b[0m in \u001b[0;36m<module>\u001b[1;34m()\u001b[0m\n\u001b[0;32m      3\u001b[0m \u001b[0mrating_user\u001b[0m \u001b[1;33m=\u001b[0m \u001b[0mCounter\u001b[0m\u001b[1;33m(\u001b[0m\u001b[0muser\u001b[0m\u001b[1;33m)\u001b[0m\u001b[1;33m.\u001b[0m\u001b[0mmost_common\u001b[0m\u001b[1;33m(\u001b[0m\u001b[1;33m)\u001b[0m\u001b[1;33m\u001b[0m\u001b[0m\n\u001b[0;32m      4\u001b[0m \u001b[1;33m\u001b[0m\u001b[0m\n\u001b[1;32m----> 5\u001b[1;33m \u001b[0mplt\u001b[0m\u001b[1;33m.\u001b[0m\u001b[0mhist\u001b[0m\u001b[1;33m(\u001b[0m\u001b[0mrating_user\u001b[0m\u001b[1;33m)\u001b[0m\u001b[1;33m\u001b[0m\u001b[0m\n\u001b[0m\u001b[0;32m      6\u001b[0m \u001b[0mplt\u001b[0m\u001b[1;33m.\u001b[0m\u001b[0myscale\u001b[0m\u001b[1;33m(\u001b[0m\u001b[1;34m'log'\u001b[0m\u001b[1;33m,\u001b[0m \u001b[0mnonposy\u001b[0m\u001b[1;33m=\u001b[0m\u001b[1;34m'clip'\u001b[0m\u001b[1;33m)\u001b[0m\u001b[1;33m\u001b[0m\u001b[0m\n\u001b[0;32m      7\u001b[0m \u001b[0mplt\u001b[0m\u001b[1;33m.\u001b[0m\u001b[0mshow\u001b[0m\u001b[1;33m(\u001b[0m\u001b[1;33m)\u001b[0m\u001b[1;33m\u001b[0m\u001b[0m\n",
      "\u001b[1;32mC:\\ProgramData\\Anaconda3\\lib\\site-packages\\matplotlib\\pyplot.py\u001b[0m in \u001b[0;36mhist\u001b[1;34m(x, bins, range, density, weights, cumulative, bottom, histtype, align, orientation, rwidth, log, color, label, stacked, normed, hold, data, **kwargs)\u001b[0m\n\u001b[0;32m   3002\u001b[0m                       \u001b[0mhisttype\u001b[0m\u001b[1;33m=\u001b[0m\u001b[0mhisttype\u001b[0m\u001b[1;33m,\u001b[0m \u001b[0malign\u001b[0m\u001b[1;33m=\u001b[0m\u001b[0malign\u001b[0m\u001b[1;33m,\u001b[0m \u001b[0morientation\u001b[0m\u001b[1;33m=\u001b[0m\u001b[0morientation\u001b[0m\u001b[1;33m,\u001b[0m\u001b[1;33m\u001b[0m\u001b[0m\n\u001b[0;32m   3003\u001b[0m                       \u001b[0mrwidth\u001b[0m\u001b[1;33m=\u001b[0m\u001b[0mrwidth\u001b[0m\u001b[1;33m,\u001b[0m \u001b[0mlog\u001b[0m\u001b[1;33m=\u001b[0m\u001b[0mlog\u001b[0m\u001b[1;33m,\u001b[0m \u001b[0mcolor\u001b[0m\u001b[1;33m=\u001b[0m\u001b[0mcolor\u001b[0m\u001b[1;33m,\u001b[0m \u001b[0mlabel\u001b[0m\u001b[1;33m=\u001b[0m\u001b[0mlabel\u001b[0m\u001b[1;33m,\u001b[0m\u001b[1;33m\u001b[0m\u001b[0m\n\u001b[1;32m-> 3004\u001b[1;33m                       stacked=stacked, normed=normed, data=data, **kwargs)\n\u001b[0m\u001b[0;32m   3005\u001b[0m     \u001b[1;32mfinally\u001b[0m\u001b[1;33m:\u001b[0m\u001b[1;33m\u001b[0m\u001b[0m\n\u001b[0;32m   3006\u001b[0m         \u001b[0max\u001b[0m\u001b[1;33m.\u001b[0m\u001b[0m_hold\u001b[0m \u001b[1;33m=\u001b[0m \u001b[0mwashold\u001b[0m\u001b[1;33m\u001b[0m\u001b[0m\n",
      "\u001b[1;32mC:\\ProgramData\\Anaconda3\\lib\\site-packages\\matplotlib\\__init__.py\u001b[0m in \u001b[0;36minner\u001b[1;34m(ax, *args, **kwargs)\u001b[0m\n\u001b[0;32m   1708\u001b[0m                     warnings.warn(msg % (label_namer, func.__name__),\n\u001b[0;32m   1709\u001b[0m                                   RuntimeWarning, stacklevel=2)\n\u001b[1;32m-> 1710\u001b[1;33m             \u001b[1;32mreturn\u001b[0m \u001b[0mfunc\u001b[0m\u001b[1;33m(\u001b[0m\u001b[0max\u001b[0m\u001b[1;33m,\u001b[0m \u001b[1;33m*\u001b[0m\u001b[0margs\u001b[0m\u001b[1;33m,\u001b[0m \u001b[1;33m**\u001b[0m\u001b[0mkwargs\u001b[0m\u001b[1;33m)\u001b[0m\u001b[1;33m\u001b[0m\u001b[0m\n\u001b[0m\u001b[0;32m   1711\u001b[0m         \u001b[0mpre_doc\u001b[0m \u001b[1;33m=\u001b[0m \u001b[0minner\u001b[0m\u001b[1;33m.\u001b[0m\u001b[0m__doc__\u001b[0m\u001b[1;33m\u001b[0m\u001b[0m\n\u001b[0;32m   1712\u001b[0m         \u001b[1;32mif\u001b[0m \u001b[0mpre_doc\u001b[0m \u001b[1;32mis\u001b[0m \u001b[1;32mNone\u001b[0m\u001b[1;33m:\u001b[0m\u001b[1;33m\u001b[0m\u001b[0m\n",
      "\u001b[1;32mC:\\ProgramData\\Anaconda3\\lib\\site-packages\\matplotlib\\axes\\_axes.py\u001b[0m in \u001b[0;36mhist\u001b[1;34m(***failed resolving arguments***)\u001b[0m\n\u001b[0;32m   6284\u001b[0m                 patch = _barfunc(bins[:-1]+boffset, height, width,\n\u001b[0;32m   6285\u001b[0m                                  \u001b[0malign\u001b[0m\u001b[1;33m=\u001b[0m\u001b[1;34m'center'\u001b[0m\u001b[1;33m,\u001b[0m \u001b[0mlog\u001b[0m\u001b[1;33m=\u001b[0m\u001b[0mlog\u001b[0m\u001b[1;33m,\u001b[0m\u001b[1;33m\u001b[0m\u001b[0m\n\u001b[1;32m-> 6286\u001b[1;33m                                  color=c, **{bottom_kwarg: bottom})\n\u001b[0m\u001b[0;32m   6287\u001b[0m                 \u001b[0mpatches\u001b[0m\u001b[1;33m.\u001b[0m\u001b[0mappend\u001b[0m\u001b[1;33m(\u001b[0m\u001b[0mpatch\u001b[0m\u001b[1;33m)\u001b[0m\u001b[1;33m\u001b[0m\u001b[0m\n\u001b[0;32m   6288\u001b[0m                 \u001b[1;32mif\u001b[0m \u001b[0mstacked\u001b[0m\u001b[1;33m:\u001b[0m\u001b[1;33m\u001b[0m\u001b[0m\n",
      "\u001b[1;32mC:\\ProgramData\\Anaconda3\\lib\\site-packages\\matplotlib\\__init__.py\u001b[0m in \u001b[0;36minner\u001b[1;34m(ax, *args, **kwargs)\u001b[0m\n\u001b[0;32m   1708\u001b[0m                     warnings.warn(msg % (label_namer, func.__name__),\n\u001b[0;32m   1709\u001b[0m                                   RuntimeWarning, stacklevel=2)\n\u001b[1;32m-> 1710\u001b[1;33m             \u001b[1;32mreturn\u001b[0m \u001b[0mfunc\u001b[0m\u001b[1;33m(\u001b[0m\u001b[0max\u001b[0m\u001b[1;33m,\u001b[0m \u001b[1;33m*\u001b[0m\u001b[0margs\u001b[0m\u001b[1;33m,\u001b[0m \u001b[1;33m**\u001b[0m\u001b[0mkwargs\u001b[0m\u001b[1;33m)\u001b[0m\u001b[1;33m\u001b[0m\u001b[0m\n\u001b[0m\u001b[0;32m   1711\u001b[0m         \u001b[0mpre_doc\u001b[0m \u001b[1;33m=\u001b[0m \u001b[0minner\u001b[0m\u001b[1;33m.\u001b[0m\u001b[0m__doc__\u001b[0m\u001b[1;33m\u001b[0m\u001b[0m\n\u001b[0;32m   1712\u001b[0m         \u001b[1;32mif\u001b[0m \u001b[0mpre_doc\u001b[0m \u001b[1;32mis\u001b[0m \u001b[1;32mNone\u001b[0m\u001b[1;33m:\u001b[0m\u001b[1;33m\u001b[0m\u001b[0m\n",
      "\u001b[1;32mC:\\ProgramData\\Anaconda3\\lib\\site-packages\\matplotlib\\axes\\_axes.py\u001b[0m in \u001b[0;36mbar\u001b[1;34m(self, *args, **kwargs)\u001b[0m\n\u001b[0;32m   2154\u001b[0m             \u001b[1;32melif\u001b[0m \u001b[0morientation\u001b[0m \u001b[1;33m==\u001b[0m \u001b[1;34m'horizontal'\u001b[0m\u001b[1;33m:\u001b[0m\u001b[1;33m\u001b[0m\u001b[0m\n\u001b[0;32m   2155\u001b[0m                 \u001b[0mr\u001b[0m\u001b[1;33m.\u001b[0m\u001b[0msticky_edges\u001b[0m\u001b[1;33m.\u001b[0m\u001b[0mx\u001b[0m\u001b[1;33m.\u001b[0m\u001b[0mappend\u001b[0m\u001b[1;33m(\u001b[0m\u001b[0ml\u001b[0m\u001b[1;33m)\u001b[0m\u001b[1;33m\u001b[0m\u001b[0m\n\u001b[1;32m-> 2156\u001b[1;33m             \u001b[0mself\u001b[0m\u001b[1;33m.\u001b[0m\u001b[0madd_patch\u001b[0m\u001b[1;33m(\u001b[0m\u001b[0mr\u001b[0m\u001b[1;33m)\u001b[0m\u001b[1;33m\u001b[0m\u001b[0m\n\u001b[0m\u001b[0;32m   2157\u001b[0m             \u001b[0mpatches\u001b[0m\u001b[1;33m.\u001b[0m\u001b[0mappend\u001b[0m\u001b[1;33m(\u001b[0m\u001b[0mr\u001b[0m\u001b[1;33m)\u001b[0m\u001b[1;33m\u001b[0m\u001b[0m\n\u001b[0;32m   2158\u001b[0m \u001b[1;33m\u001b[0m\u001b[0m\n",
      "\u001b[1;32mC:\\ProgramData\\Anaconda3\\lib\\site-packages\\matplotlib\\axes\\_base.py\u001b[0m in \u001b[0;36madd_patch\u001b[1;34m(self, p)\u001b[0m\n\u001b[0;32m   1831\u001b[0m         \u001b[0mself\u001b[0m\u001b[1;33m.\u001b[0m\u001b[0m_set_artist_props\u001b[0m\u001b[1;33m(\u001b[0m\u001b[0mp\u001b[0m\u001b[1;33m)\u001b[0m\u001b[1;33m\u001b[0m\u001b[0m\n\u001b[0;32m   1832\u001b[0m         \u001b[1;32mif\u001b[0m \u001b[0mp\u001b[0m\u001b[1;33m.\u001b[0m\u001b[0mget_clip_path\u001b[0m\u001b[1;33m(\u001b[0m\u001b[1;33m)\u001b[0m \u001b[1;32mis\u001b[0m \u001b[1;32mNone\u001b[0m\u001b[1;33m:\u001b[0m\u001b[1;33m\u001b[0m\u001b[0m\n\u001b[1;32m-> 1833\u001b[1;33m             \u001b[0mp\u001b[0m\u001b[1;33m.\u001b[0m\u001b[0mset_clip_path\u001b[0m\u001b[1;33m(\u001b[0m\u001b[0mself\u001b[0m\u001b[1;33m.\u001b[0m\u001b[0mpatch\u001b[0m\u001b[1;33m)\u001b[0m\u001b[1;33m\u001b[0m\u001b[0m\n\u001b[0m\u001b[0;32m   1834\u001b[0m         \u001b[0mself\u001b[0m\u001b[1;33m.\u001b[0m\u001b[0m_update_patch_limits\u001b[0m\u001b[1;33m(\u001b[0m\u001b[0mp\u001b[0m\u001b[1;33m)\u001b[0m\u001b[1;33m\u001b[0m\u001b[0m\n\u001b[0;32m   1835\u001b[0m         \u001b[0mself\u001b[0m\u001b[1;33m.\u001b[0m\u001b[0mpatches\u001b[0m\u001b[1;33m.\u001b[0m\u001b[0mappend\u001b[0m\u001b[1;33m(\u001b[0m\u001b[0mp\u001b[0m\u001b[1;33m)\u001b[0m\u001b[1;33m\u001b[0m\u001b[0m\n",
      "\u001b[1;32mC:\\ProgramData\\Anaconda3\\lib\\site-packages\\matplotlib\\artist.py\u001b[0m in \u001b[0;36mset_clip_path\u001b[1;34m(self, path, transform)\u001b[0m\n\u001b[0;32m    652\u001b[0m             \u001b[1;32mif\u001b[0m \u001b[0misinstance\u001b[0m\u001b[1;33m(\u001b[0m\u001b[0mpath\u001b[0m\u001b[1;33m,\u001b[0m \u001b[0mRectangle\u001b[0m\u001b[1;33m)\u001b[0m\u001b[1;33m:\u001b[0m\u001b[1;33m\u001b[0m\u001b[0m\n\u001b[0;32m    653\u001b[0m                 self.clipbox = TransformedBbox(Bbox.unit(),\n\u001b[1;32m--> 654\u001b[1;33m                                                path.get_transform())\n\u001b[0m\u001b[0;32m    655\u001b[0m                 \u001b[0mself\u001b[0m\u001b[1;33m.\u001b[0m\u001b[0m_clippath\u001b[0m \u001b[1;33m=\u001b[0m \u001b[1;32mNone\u001b[0m\u001b[1;33m\u001b[0m\u001b[0m\n\u001b[0;32m    656\u001b[0m                 \u001b[0msuccess\u001b[0m \u001b[1;33m=\u001b[0m \u001b[1;32mTrue\u001b[0m\u001b[1;33m\u001b[0m\u001b[0m\n",
      "\u001b[1;32mC:\\ProgramData\\Anaconda3\\lib\\site-packages\\matplotlib\\patches.py\u001b[0m in \u001b[0;36mget_transform\u001b[1;34m(self)\u001b[0m\n\u001b[0;32m    219\u001b[0m         \u001b[0mto\u001b[0m \u001b[0mthe\u001b[0m \u001b[1;33m:\u001b[0m\u001b[1;32mclass\u001b[0m\u001b[1;33m:\u001b[0m\u001b[0;31m`\u001b[0m\u001b[0mPatch\u001b[0m\u001b[0;31m`\u001b[0m\u001b[1;33m.\u001b[0m\u001b[1;33m\u001b[0m\u001b[0m\n\u001b[0;32m    220\u001b[0m         \"\"\"\n\u001b[1;32m--> 221\u001b[1;33m         \u001b[1;32mreturn\u001b[0m \u001b[0mself\u001b[0m\u001b[1;33m.\u001b[0m\u001b[0mget_patch_transform\u001b[0m\u001b[1;33m(\u001b[0m\u001b[1;33m)\u001b[0m \u001b[1;33m+\u001b[0m \u001b[0martist\u001b[0m\u001b[1;33m.\u001b[0m\u001b[0mArtist\u001b[0m\u001b[1;33m.\u001b[0m\u001b[0mget_transform\u001b[0m\u001b[1;33m(\u001b[0m\u001b[0mself\u001b[0m\u001b[1;33m)\u001b[0m\u001b[1;33m\u001b[0m\u001b[0m\n\u001b[0m\u001b[0;32m    222\u001b[0m \u001b[1;33m\u001b[0m\u001b[0m\n\u001b[0;32m    223\u001b[0m     \u001b[1;32mdef\u001b[0m \u001b[0mget_data_transform\u001b[0m\u001b[1;33m(\u001b[0m\u001b[0mself\u001b[0m\u001b[1;33m)\u001b[0m\u001b[1;33m:\u001b[0m\u001b[1;33m\u001b[0m\u001b[0m\n",
      "\u001b[1;32mC:\\ProgramData\\Anaconda3\\lib\\site-packages\\matplotlib\\patches.py\u001b[0m in \u001b[0;36mget_patch_transform\u001b[1;34m(self)\u001b[0m\n\u001b[0;32m    720\u001b[0m \u001b[1;33m\u001b[0m\u001b[0m\n\u001b[0;32m    721\u001b[0m     \u001b[1;32mdef\u001b[0m \u001b[0mget_patch_transform\u001b[0m\u001b[1;33m(\u001b[0m\u001b[0mself\u001b[0m\u001b[1;33m)\u001b[0m\u001b[1;33m:\u001b[0m\u001b[1;33m\u001b[0m\u001b[0m\n\u001b[1;32m--> 722\u001b[1;33m         \u001b[0mself\u001b[0m\u001b[1;33m.\u001b[0m\u001b[0m_update_patch_transform\u001b[0m\u001b[1;33m(\u001b[0m\u001b[1;33m)\u001b[0m\u001b[1;33m\u001b[0m\u001b[0m\n\u001b[0m\u001b[0;32m    723\u001b[0m         \u001b[1;32mreturn\u001b[0m \u001b[0mself\u001b[0m\u001b[1;33m.\u001b[0m\u001b[0m_rect_transform\u001b[0m\u001b[1;33m\u001b[0m\u001b[0m\n\u001b[0;32m    724\u001b[0m \u001b[1;33m\u001b[0m\u001b[0m\n",
      "\u001b[1;32mC:\\ProgramData\\Anaconda3\\lib\\site-packages\\matplotlib\\patches.py\u001b[0m in \u001b[0;36m_update_patch_transform\u001b[1;34m(self)\u001b[0m\n\u001b[0;32m    715\u001b[0m         \u001b[0mbbox\u001b[0m \u001b[1;33m=\u001b[0m \u001b[0mtransforms\u001b[0m\u001b[1;33m.\u001b[0m\u001b[0mBbox\u001b[0m\u001b[1;33m.\u001b[0m\u001b[0mfrom_bounds\u001b[0m\u001b[1;33m(\u001b[0m\u001b[0mx\u001b[0m\u001b[1;33m,\u001b[0m \u001b[0my\u001b[0m\u001b[1;33m,\u001b[0m \u001b[0mwidth\u001b[0m\u001b[1;33m,\u001b[0m \u001b[0mheight\u001b[0m\u001b[1;33m)\u001b[0m\u001b[1;33m\u001b[0m\u001b[0m\n\u001b[0;32m    716\u001b[0m         \u001b[0mrot_trans\u001b[0m \u001b[1;33m=\u001b[0m \u001b[0mtransforms\u001b[0m\u001b[1;33m.\u001b[0m\u001b[0mAffine2D\u001b[0m\u001b[1;33m(\u001b[0m\u001b[1;33m)\u001b[0m\u001b[1;33m\u001b[0m\u001b[0m\n\u001b[1;32m--> 717\u001b[1;33m         \u001b[0mrot_trans\u001b[0m\u001b[1;33m.\u001b[0m\u001b[0mrotate_deg_around\u001b[0m\u001b[1;33m(\u001b[0m\u001b[0mx\u001b[0m\u001b[1;33m,\u001b[0m \u001b[0my\u001b[0m\u001b[1;33m,\u001b[0m \u001b[0mself\u001b[0m\u001b[1;33m.\u001b[0m\u001b[0mangle\u001b[0m\u001b[1;33m)\u001b[0m\u001b[1;33m\u001b[0m\u001b[0m\n\u001b[0m\u001b[0;32m    718\u001b[0m         \u001b[0mself\u001b[0m\u001b[1;33m.\u001b[0m\u001b[0m_rect_transform\u001b[0m \u001b[1;33m=\u001b[0m \u001b[0mtransforms\u001b[0m\u001b[1;33m.\u001b[0m\u001b[0mBboxTransformTo\u001b[0m\u001b[1;33m(\u001b[0m\u001b[0mbbox\u001b[0m\u001b[1;33m)\u001b[0m\u001b[1;33m\u001b[0m\u001b[0m\n\u001b[0;32m    719\u001b[0m         \u001b[0mself\u001b[0m\u001b[1;33m.\u001b[0m\u001b[0m_rect_transform\u001b[0m \u001b[1;33m+=\u001b[0m \u001b[0mrot_trans\u001b[0m\u001b[1;33m\u001b[0m\u001b[0m\n",
      "\u001b[1;32mC:\\ProgramData\\Anaconda3\\lib\\site-packages\\matplotlib\\transforms.py\u001b[0m in \u001b[0;36mrotate_deg_around\u001b[1;34m(self, x, y, degrees)\u001b[0m\n\u001b[0;32m   2036\u001b[0m         \u001b[1;31m# Cast to float to avoid wraparound issues with uint8's\u001b[0m\u001b[1;33m\u001b[0m\u001b[1;33m\u001b[0m\u001b[0m\n\u001b[0;32m   2037\u001b[0m         \u001b[0mx\u001b[0m\u001b[1;33m,\u001b[0m \u001b[0my\u001b[0m \u001b[1;33m=\u001b[0m \u001b[0mfloat\u001b[0m\u001b[1;33m(\u001b[0m\u001b[0mx\u001b[0m\u001b[1;33m)\u001b[0m\u001b[1;33m,\u001b[0m \u001b[0mfloat\u001b[0m\u001b[1;33m(\u001b[0m\u001b[0my\u001b[0m\u001b[1;33m)\u001b[0m\u001b[1;33m\u001b[0m\u001b[0m\n\u001b[1;32m-> 2038\u001b[1;33m         \u001b[1;32mreturn\u001b[0m \u001b[0mself\u001b[0m\u001b[1;33m.\u001b[0m\u001b[0mtranslate\u001b[0m\u001b[1;33m(\u001b[0m\u001b[1;33m-\u001b[0m\u001b[0mx\u001b[0m\u001b[1;33m,\u001b[0m \u001b[1;33m-\u001b[0m\u001b[0my\u001b[0m\u001b[1;33m)\u001b[0m\u001b[1;33m.\u001b[0m\u001b[0mrotate_deg\u001b[0m\u001b[1;33m(\u001b[0m\u001b[0mdegrees\u001b[0m\u001b[1;33m)\u001b[0m\u001b[1;33m.\u001b[0m\u001b[0mtranslate\u001b[0m\u001b[1;33m(\u001b[0m\u001b[0mx\u001b[0m\u001b[1;33m,\u001b[0m \u001b[0my\u001b[0m\u001b[1;33m)\u001b[0m\u001b[1;33m\u001b[0m\u001b[0m\n\u001b[0m\u001b[0;32m   2039\u001b[0m \u001b[1;33m\u001b[0m\u001b[0m\n\u001b[0;32m   2040\u001b[0m     \u001b[1;32mdef\u001b[0m \u001b[0mtranslate\u001b[0m\u001b[1;33m(\u001b[0m\u001b[0mself\u001b[0m\u001b[1;33m,\u001b[0m \u001b[0mtx\u001b[0m\u001b[1;33m,\u001b[0m \u001b[0mty\u001b[0m\u001b[1;33m)\u001b[0m\u001b[1;33m:\u001b[0m\u001b[1;33m\u001b[0m\u001b[0m\n",
      "\u001b[1;32mC:\\ProgramData\\Anaconda3\\lib\\site-packages\\matplotlib\\transforms.py\u001b[0m in \u001b[0;36mtranslate\u001b[1;34m(self, tx, ty)\u001b[0m\n\u001b[0;32m   2048\u001b[0m         translate_mtx = np.array(\n\u001b[0;32m   2049\u001b[0m             [[1.0, 0.0, tx], [0.0, 1.0, ty], [0.0, 0.0, 1.0]], float)\n\u001b[1;32m-> 2050\u001b[1;33m         \u001b[0mself\u001b[0m\u001b[1;33m.\u001b[0m\u001b[0m_mtx\u001b[0m \u001b[1;33m=\u001b[0m \u001b[0mnp\u001b[0m\u001b[1;33m.\u001b[0m\u001b[0mdot\u001b[0m\u001b[1;33m(\u001b[0m\u001b[0mtranslate_mtx\u001b[0m\u001b[1;33m,\u001b[0m \u001b[0mself\u001b[0m\u001b[1;33m.\u001b[0m\u001b[0m_mtx\u001b[0m\u001b[1;33m)\u001b[0m\u001b[1;33m\u001b[0m\u001b[0m\n\u001b[0m\u001b[0;32m   2051\u001b[0m         \u001b[0mself\u001b[0m\u001b[1;33m.\u001b[0m\u001b[0minvalidate\u001b[0m\u001b[1;33m(\u001b[0m\u001b[1;33m)\u001b[0m\u001b[1;33m\u001b[0m\u001b[0m\n\u001b[0;32m   2052\u001b[0m         \u001b[1;32mreturn\u001b[0m \u001b[0mself\u001b[0m\u001b[1;33m\u001b[0m\u001b[0m\n",
      "\u001b[1;31mKeyboardInterrupt\u001b[0m: "
     ]
    },
    {
     "data": {
      "image/png": "iVBORw0KGgoAAAANSUhEUgAAAXwAAAD8CAYAAAB0IB+mAAAABHNCSVQICAgIfAhkiAAAAAlwSFlz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\npCYMviQ18f+GmWq6NWLIwgAAAABJRU5ErkJggg==\n",
      "text/plain": [
       "<matplotlib.figure.Figure at 0x1e9630c92b0>"
      ]
     },
     "metadata": {},
     "output_type": "display_data"
    }
   ],
   "source": [
    "user,item = X.nonzero()\n",
    "rating_item = Counter(item).most_common()\n",
    "rating_user = Counter(user).most_common()\n",
    "\n",
    "plt.hist(rating_user)\n",
    "plt.yscale('log', nonposy='clip') \n",
    "plt.show()\n",
    "\n",
    "plt.hist(rating_item)\n",
    "plt.yscale('log', nonposy='clip') \n",
    "plt.show()\n",
    "\n",
    "plt.hist(ratings[\"rating\"])\n",
    "plt.yscale('log', nonposy='clip') \n",
    "plt.show()"
   ]
  },
  {
   "cell_type": "code",
   "execution_count": 50,
   "metadata": {},
   "outputs": [
    {
     "data": {
      "image/png": "iVBORw0KGgoAAAANSUhEUgAAAXoAAAD8CAYAAAB5Pm/hAAAABHNCSVQICAgIfAhkiAAAAAlwSFlz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\n",
      "text/plain": [
       "<matplotlib.figure.Figure at 0x209afe77128>"
      ]
     },
     "metadata": {},
     "output_type": "display_data"
    },
    {
     "data": {
      "image/png": "iVBORw0KGgoAAAANSUhEUgAAAXoAAAD8CAYAAAB5Pm/hAAAABHNCSVQICAgIfAhkiAAAAAlwSFlz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\n",
      "text/plain": [
       "<matplotlib.figure.Figure at 0x209a8f033c8>"
      ]
     },
     "metadata": {},
     "output_type": "display_data"
    },
    {
     "data": {
      "image/png": "iVBORw0KGgoAAAANSUhEUgAAAXoAAAD8CAYAAAB5Pm/hAAAABHNCSVQICAgIfAhkiAAAAAlwSFlz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\n",
      "text/plain": [
       "<matplotlib.figure.Figure at 0x209b2cf3cc0>"
      ]
     },
     "metadata": {},
     "output_type": "display_data"
    }
   ],
   "source": [
    "### YOUR CODE HERE ###\n",
    "rating_user=[]\n",
    "rating_item=[]\n",
    "for j in range(n):\n",
    "    index=X[j,:].nonzero()\n",
    "    tStar=np.sum(X[j,index])\n",
    "    rating_user.append(tStar)\n",
    "for i in range(d):\n",
    "    index=X[:,i].nonzero()\n",
    "    tStar=np.sum(X[index,i])\n",
    "    rating_item.append(tStar)\n",
    "\n",
    "\n",
    "\n",
    "plt.hist(rating_user)\n",
    "plt.yscale('log', nonposy='clip') \n",
    "plt.show()\n",
    "\n",
    "plt.hist(rating_item)\n",
    "plt.yscale('log', nonposy='clip') \n",
    "plt.show()\n",
    "\n",
    "plt.hist(ratings[\"rating\"])\n",
    "plt.yscale('log', nonposy='clip') \n",
    "plt.show()"
=======
   "execution_count": 2,
   "metadata": {},
   "outputs": [],
   "source": [
    "### YOUR CODE HERE ###"
>>>>>>> 114e3df9bcd4a1a568d2c32d292f3566c868a283
   ]
  },
  {
   "cell_type": "markdown",
   "metadata": {},
   "source": [
    "### 1.3\n",
    "rubric={reasoning:1}\n",
    "\n",
    "Use scikit-learn's [NearestNeighbors](http://scikit-learn.org/stable/modules/generated/sklearn.neighbors.NearestNeighbors.html) object (which uses Euclidean distance by default) to find the 5 items most similar to [Brass Grill Brush 18 Inch Heavy Duty and Extra Strong, Solid Oak Handle](https://www.amazon.com/dp/B00CFM0P7Y). \n",
    "\n",
    "The code block below grabs the row of `X` associated with the grill brush. The mappers take care of going back and forther between the IDs (like `B00CFM0P7Y`) and the indices of the sparse array (0,1,2,...).\n",
    "\n",
    "Note: keep in mind that `NearestNeighbors` is for taking neighbors across rows, but here we're working across columns."
   ]
  },
  {
   "cell_type": "code",
<<<<<<< HEAD
   "execution_count": 12,
=======
   "execution_count": 20,
>>>>>>> 114e3df9bcd4a1a568d2c32d292f3566c868a283
   "metadata": {},
   "outputs": [
    {
     "name": "stdout",
     "output_type": "stream",
     "text": [
      "https://www.amazon.com/dp/B00CFM0P7Y\n"
     ]
    }
   ],
   "source": [
    "grill_brush = \"B00CFM0P7Y\"\n",
    "grill_brush_ind = item_mapper[grill_brush]\n",
    "grill_brush_vec = X[:,grill_brush_ind]\n",
    "\n",
    "print(url_amazon % grill_brush)"
   ]
  },
  {
   "cell_type": "code",
<<<<<<< HEAD
   "execution_count": 23,
   "metadata": {},
   "outputs": [
    {
     "name": "stdout",
     "output_type": "stream",
     "text": [
      "['B00CFM0P7Y', 'B00IJB5MCS', 'B00IJB4MLA', 'B00EXE4O42', 'B00743MZCM', 'B00HVXQY9A']\n"
     ]
    }
   ],
   "source": [
    "### YOUR CODE HERE ###\n",
    "from sklearn.neighbors import NearestNeighbors\n",
    "neigh = NearestNeighbors(n_neighbors=6)\n",
    "neigh.fit(X.T)\n",
    "\n",
    "s5_neighbours1=neigh.kneighbors(X=grill_brush_vec.T,return_distance=False)[0]\n",
    "# print(distance,s5_neighbours1)\n",
    "print([item_inverse_mapper[s5_neighbours1[i]] for i in range(6)])"
=======
   "execution_count": 3,
   "metadata": {},
   "outputs": [],
   "source": [
    "### YOUR CODE HERE ###"
>>>>>>> 114e3df9bcd4a1a568d2c32d292f3566c868a283
   ]
  },
  {
   "cell_type": "markdown",
   "metadata": {},
   "source": [
    "### 1.4\n",
    "rubric={reasoning:1}\n",
    "\n",
    "Using cosine similarity instead of Euclidean distance in `NearestNeighbors`, find the 5 products most similar to `B00CFM0P7Y`."
   ]
  },
  {
   "cell_type": "code",
<<<<<<< HEAD
   "execution_count": 24,
   "metadata": {},
   "outputs": [
    {
     "name": "stdout",
     "output_type": "stream",
     "text": [
      "['B00CFM0P7Y', 'B00IJB5MCS', 'B00IJB8F3G', 'B00IJB4MLA', 'B00EF45AHU', 'B00EF3YF0Y']\n"
     ]
    }
   ],
   "source": [
    "### YOUR CODE HERE ###\n",
    "neigh = NearestNeighbors(n_neighbors=6,metric=\"cosine\")\n",
    "neigh.fit(X.T)\n",
    "s5_neighbours2=neigh.kneighbors(X=grill_brush_vec.T,return_distance=False)[0]\n",
    "print([item_inverse_mapper[s5_neighbours2[i]] for i in range(6)])"
=======
   "execution_count": 4,
   "metadata": {},
   "outputs": [],
   "source": [
    "### YOUR CODE HERE ###"
>>>>>>> 114e3df9bcd4a1a568d2c32d292f3566c868a283
   ]
  },
  {
   "cell_type": "markdown",
   "metadata": {},
   "source": [
    "### 1.5\n",
    "rubric={reasoning:2}\n",
    "\n",
    "For each of the two metrics, compute the compute the total popularity (total stars) of each of the 5 items and report it. Do the results make sense given what we discussed in class about Euclidean distance vs. cosine similarity? \n"
   ]
  },
  {
   "cell_type": "code",
<<<<<<< HEAD
   "execution_count": 26,
   "metadata": {},
   "outputs": [
    {
     "name": "stdout",
     "output_type": "stream",
     "text": [
      "with ED:  486.0\n",
      "with CS:  1733.0\n"
     ]
    }
   ],
   "source": [
    "### YOUR CODE HERE ###\n",
    "star1=0\n",
    "star2=0\n",
    "star1=np.sum(X[:,s5_neighbours1[1:6]])\n",
    "star2=np.sum(X[:,s5_neighbours2[1:6]])\n",
    "print(\"with ED: \",star1)\n",
    "print(\"with CS: \",star2)"
=======
   "execution_count": 5,
   "metadata": {},
   "outputs": [],
   "source": [
    "### YOUR CODE HERE ###"
>>>>>>> 114e3df9bcd4a1a568d2c32d292f3566c868a283
   ]
  },
  {
   "cell_type": "markdown",
   "metadata": {},
   "source": [
    "### 1.6\n",
    "rubric={reasoning:3}\n",
    "\n",
    "PCA gives us an approximation $X \\approx ZW$ where the rows of $Z$ contain a length-$k$ latent feature vectors for each user and the columns of $W$ contain a length-$k$ latent feature vectors for each item.\n",
    "\n",
    "Another strategy for finding similar items is to run PCA and then search for nearest neighbours with Euclidean distance in the latent feature space, which is hopefully more meaningful than the original \"user rating space\". In other words, we run nearest neighbors on the columns of $W$. Using $k=10$ and scikit-learn's [TruncatedSVD](http://scikit-learn.org/stable/modules/generated/sklearn.decomposition.TruncatedSVD.html) to perform the dimensionality reduction, find the 5 nearest neighbours to the grill brush using this method. You can access $W$ via the `components_` field of the `TruncatedSVD` object, after you fit it to the data. \n",
    "\n",
    "Briefly comment on your results.\n",
    "\n",
    "Implementation note: when you call on `NearestNeighbors.kneighbors`, it expects the input to be a 2D array. There's some weirdness here because `X` is a scipy sparse matrix but your `W` will be a dense matrix, and they behave differently in subtle ways. If you get an error like \"Expected 2D array, got 1D array instead\" then this is your problem: a column of `W` is technically a 1D array but a column of `X` has dimension $1\\times n$, which is technically a 2D array. You can take a 1D numpy array and add an extra first dimension to it with `array[None]`.\n",
    "\n",
    "Conceptual note 1: We are using the \"truncated\" rather than full SVD since a full SVD would involve dense $d\\times d$ matrices, which we've already established are too big to deal with. And then we'd only use the first $k$ rows of it anyway. So a full SVD would be both impossible and pointless.\n",
    "\n",
    "Conceptual note 2: as discussed in class, there is a problem here, which is that we're not ignoring the missing entries. You could get around this by optimizing the PCA objective with gradient descent, say using `findMin` from previous assignments. But we're just going to ignore that for now, as the assignment seems long enough as it is (or at least it's hard for me to judge how long it will take because it's new)."
   ]
  },
  {
   "cell_type": "code",
<<<<<<< HEAD
   "execution_count": 31,
   "metadata": {},
   "outputs": [
    {
     "name": "stdout",
     "output_type": "stream",
     "text": [
      "(714791, 1)\n",
      "10 105984 (10,)\n",
      "['B00CFM0P7Y', 'B000MVLB8W', 'B000H1SJ8C', 'B000X9BNG8', 'B001VNC3Q4', 'B001H1NG1Q']\n"
     ]
    }
   ],
   "source": [
    "### YOUR CODE HERE ###\n",
    "from sklearn.decomposition import TruncatedSVD\n",
    "from sklearn.random_projection import sparse_random_matrix\n",
    "\n",
    "print(grill_brush_vec.shape)\n",
    "svd = TruncatedSVD(n_components=10, n_iter=7, random_state=42)\n",
    "svd.fit(X)\n",
    "W=svd.components_\n",
    "\n",
    "k,d=W.shape\n",
    "# print(W[:,1].shape)\n",
    "grill_brush_vec_new=W[:,grill_brush_ind]\n",
    "tt = grill_brush_vec_new.reshape(-1, 1)\n",
    "print(k,d,grill_brush_vec_new.shape)\n",
    "\n",
    "neigh = NearestNeighbors(n_neighbors=6)\n",
    "neigh.fit(W.T)\n",
    "\n",
    "s5_neighbours3=neigh.kneighbors(X=tt.T,return_distance=False)[0]\n",
    "print([item_inverse_mapper[s5_neighbours3[i]] for i in range(6)])"
=======
   "execution_count": 6,
   "metadata": {
    "collapsed": true
   },
   "outputs": [],
   "source": [
    "### YOUR CODE HERE ###"
>>>>>>> 114e3df9bcd4a1a568d2c32d292f3566c868a283
   ]
  },
  {
   "cell_type": "markdown",
   "metadata": {},
   "source": [
    "## Exercise 2: putting it all together in a CPSC 340 \"mini-project\"\n",
    "rubric={reasoning:25}\n",
    "\n",
    "In this open-ended mini-project, you'll explore the [UCI default of credit card clients data set](https://archive.ics.uci.edu/ml/datasets/default+of+credit+card+clients). There are 30,000 examples and 24 features, and the goal is to estimate whether a person will default (fail to pay) their credit card bills; this column is labeled \"default payment next month\" in the data. The rest of the columns can be used as features. \n",
    "\n",
    "\n",
    "\n",
    "**Your tasks:**\n",
    "\n",
    "1. Download the data set and load it in. Since the data comes as an MS Excel file, I suggest using [`pandas.read_excel`](https://pandas.pydata.org/pandas-docs/stable/generated/pandas.read_excel.html) to read it in. See [Lecture 2](https://github.ugrad.cs.ubc.ca/CPSC340-2017W-T2/home/blob/master/lectures/L2.ipynb) for an example of using pandas.\n",
    "2. Perform exploratory data analysis on the data set. Include at least two summary statistics and two visualizations that you find useful, and accompany each one with a sentence explaining it.\n",
    "3. Randomly split the data into train, validation, test sets. The validation set will be used for your experiments. The test set should be saved until the end, to make sure you didn't overfit on the validation set. You are welcome to use scikit-learn's [train_test_split](http://scikit-learn.org/stable/modules/generated/sklearn.model_selection.train_test_split.html), which takes care of both shuffling and splitting. \n",
    "4. Try scikit-learn's [DummyClassifier](http://scikit-learn.org/stable/modules/generated/sklearn.dummy.DummyClassifier.html) as a baseline model.\n",
    "5. Try logistic regression as a first real attempt. Make a plot of train/validation error vs. regularization strength. What’s the lowest validation error you can get?\n",
    "6. Explore the features, which are described on the UCI site. Explore preprocessing the features, in terms of transforming non-numerical variables, feature scaling, change of basis, etc. Did this improve your results?\n",
    "7. Try 3 other models aside from logistic regression, at least one of which is a neural network. Can you beat logistic regression? (For the neural net(s), the simplest choice would probably be to use scikit-learn's [MLPClassifier](http://scikit-learn.org/stable/modules/generated/sklearn.neural_network.MLPClassifier.html), but you are welcome to use any software you wish. )\n",
    "8. Make some attempts to optimize hyperparameters for the models you've tried and summarize your results. In at least one case you should be optimizing multiple hyperparameters for a single model. I won't make it a strict requirement, but I recommend checking out one of the following (the first two are simple scikit-learn tools, the latter two are much more sophisticated algorithms and require installing new packages): \n",
    "  - [GridSearchCV](http://scikit-learn.org/stable/modules/generated/sklearn.model_selection.GridSearchCV.html)   \n",
    "  - [RandomizedSearchCV](http://scikit-learn.org/stable/modules/generated/sklearn.model_selection.RandomizedSearchCV.html)\n",
    "  - [hyperopt-sklearn](https://github.com/hyperopt/hyperopt-sklearn)\n",
    "  - [scikit-optimize](https://github.com/scikit-optimize/scikit-optimize)\n",
    "9. Explore feature selection for this problem. What are some particularly relevant and irrelevant features? Can you improve on your original logistic regression model if you first remove some irrelevant features?\n",
    "10. Take your best model overall. Train it on the combined train/validation set and run it on the test set once. Does the test error agree fairly well with the validation error from before? Do you think you’ve had issues with optimization bias? Report your final test error directly in your README.md file as well as in your report.\n",
    "\n",
    "**Submission format:**\n",
    "Your submission should take the form of a \"report\" that includes both code and an explanation of what you've done. You don't have to include everything you ever tried - it's fine just to have your final code - but it should be reproducible. For example, if you chose your hyperparameters based on some hyperparameter optimization experiment, you should leave in the code for that experiment so that someone else could re-run it and obtain the same hyperparameters, rather than mysteriously just setting the hyperparameters to some (carefully chosen) values in your code.\n",
    "\n",
    "**Assessment:**\n",
    "We plan to grade and fairly leniently. We don't have some secret target accuracy that you need to achieve to get a good grade. You'll be assessed on demonstration of mastery of course topics, clear presentation, and the quality of your analysis and results. For example, if you write something like, \"And then I noticed the model was overfitting, so I decided to stop using regularization\" - then, well, that's not good. If you just have a bunch of code and no text or figures, that's not good. If you do a bunch of sane things and get a lower accuracy than your friend, don't sweat it.\n",
    "\n",
    "**And...**\n",
    "This style of this \"project\" question is different from other assignments. It'll be up to you to decide when you're \"done\" -- in fact, this is one of the hardest parts of real projects. But please don't spend WAY too much time on this... perhaps \"a few hours\" (2-6 hours???) is a good guideline for a typical submission. Of course if you're having fun you're welcome to spend as much time as you want! But, if so, don't do it out of perfectionism... do it because you're learning and enjoying it.\n",
    "\n"
   ]
  },
  {
   "cell_type": "code",
<<<<<<< HEAD
   "execution_count": 47,
   "metadata": {},
   "outputs": [
    {
     "name": "stdout",
     "output_type": "stream",
     "text": [
      "(30000, 25)\n",
      "20000\n",
      "[134390, 35, 16297, 1110, 377, 111, 63, 209, 10, 27398] 180000\n"
     ]
    },
    {
     "data": {
      "image/png": "iVBORw0KGgoAAAANSUhEUgAAAY0AAAD8CAYAAACLrvgBAAAABHNCSVQICAgIfAhkiAAAAAlwSFlz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\nDA1JUjdDQ5LU7f8BFukc++CsziQAAAAASUVORK5CYII=\n",
      "text/plain": [
       "<matplotlib.figure.Figure at 0x1e9110b6e10>"
      ]
     },
     "metadata": {},
     "output_type": "display_data"
    },
    {
     "name": "stdout",
     "output_type": "stream",
     "text": [
      "(30000, 6)\n",
      "[23531, 22968, 22845, 22786, 22280, 21619]\n"
     ]
    },
    {
     "data": {
      "image/png": "iVBORw0KGgoAAAANSUhEUgAAAYcAAAD8CAYAAACcjGjIAAAABHNCSVQICAgIfAhkiAAAAAlwSFlz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\n90XTTrHQDbwAAAAASUVORK5CYII=\n",
      "text/plain": [
       "<matplotlib.figure.Figure at 0x1e965c510f0>"
      ]
     },
     "metadata": {},
     "output_type": "display_data"
    },
    {
     "name": "stdout",
     "output_type": "stream",
     "text": [
      "0.774726368159\n"
     ]
    }
   ],
   "source": [
    "# YOUR CODE AND REPORT HERE, IN A SENSIBLE FORMAT\n",
    "import os\n",
    "import pandas as pd\n",
    "import numpy as np\n",
    "import matplotlib.pyplot as plt\n",
    "from sklearn.model_selection import train_test_split\n",
    "from sklearn.dummy import DummyClassifier\n",
    "\n",
    "filename = \"default of credit card clients.xls\"\n",
    "X=pd.read_excel(os.path.join(\"..\", \"data\", filename),skiprows=[0]).values\n",
    "print(X.shape)\n",
    "# q2\n",
    "y=X[:,-1]\n",
    "X=X[:,1:24]\n",
    "print(X[0,0])\n",
    "delay=X[:,6:12]\n",
    "num_delay=[]\n",
    "num_delay.append(delay[delay<1].size)\n",
    "for i in range(1,9):\n",
    "    num_delay.append(delay[delay==i].size)\n",
    "num_delay.append(delay[delay>8].size)\n",
    "print(num_delay,np.sum(num_delay))\n",
    "plt.bar(range(len(num_delay)), num_delay)  \n",
    "plt.show() \n",
    "\n",
    "bill=X[:,11:17]\n",
    "paid=X[:,17:23]\n",
    "diff=paid-bill\n",
    "print(diff.shape)\n",
    "num_not_enough=[]\n",
    "for i in range(6):\n",
    "    temp=diff[:,i]\n",
    "    num_not_enough.append(np.sum(temp[temp<0].size))\n",
    "print(num_not_enough)\n",
    "plt.bar(range(len(num_not_enough)), num_not_enough)  \n",
    "plt.show() \n",
    "\n",
    "\n",
    "#    q3\n",
    "X_train_vali, X_test, y_train_vali, y_test = train_test_split(X, y, test_size=0.33, random_state=42)\n",
    "X_train, X_vali, y_train, y_vali = train_test_split(X_train_vali, y_train_vali, test_size=0.5, random_state=42)\n",
    "\n",
    "# q4\n",
    "model = DummyClassifier(strategy='most_frequent',random_state=0)\n",
    "model.fit(X_train, y_train)\n",
    "print(model.score(X_vali,y_vali))"
   ]
  },
  {
   "cell_type": "code",
   "execution_count": 50,
   "metadata": {},
   "outputs": [
    {
     "name": "stdout",
     "output_type": "stream",
     "text": [
      "[2264, 2264, 2264, 2264, 2264, 2264, 2264, 2264, 2264, 2264] [0.77472636815920393, 0.77472636815920393, 0.77472636815920393, 0.77472636815920393, 0.77472636815920393, 0.77472636815920393, 0.77472636815920393, 0.77472636815920393, 0.77472636815920393, 0.77472636815920393] [0.77970149253731347, 0.77970149253731347, 0.77970149253731347, 0.77970149253731347, 0.77970149253731347, 0.77970149253731347, 0.77970149253731347, 0.77970149253731347, 0.77970149253731347, 0.77970149253731347]\n"
     ]
    }
   ],
   "source": [
    "# q5\n",
    "from sklearn.linear_model import LogisticRegression  \n",
    "c=[0.001,0.01,0.1,0.2,0.3,1,2,5,10,100]\n",
    "err=[]\n",
    "score=[]\n",
    "score_train=[]\n",
    "for i in c:\n",
    "    model_LR = LogisticRegression(fit_intercept=True,C=i)\n",
    "#     print(i)\n",
    "    model_LR.fit(X_train, y_train)\n",
    "    score.append(model_LR.score(X_vali,y_vali))\n",
    "    score_train.append(model_LR.score(X_train,y_train))\n",
    "    y_hat=model_LR.predict(X_vali)\n",
    "    err.append(np.sum((y_hat-y_vali)**2))\n",
    "print(err,score,score_train)"
   ]
  },
  {
   "cell_type": "code",
   "execution_count": 51,
   "metadata": {},
   "outputs": [
    {
     "name": "stdout",
     "output_type": "stream",
     "text": [
      "[ 990000       1       6       3      54      10       9       9      10\n",
      "       9      10 1119484 1051457 1725595  956753  980178 1170715  493358\n",
      " 1684259  896040  400046  426529  422000]\n",
      "[ 770000       1       6       3      53      10      10      10      10\n",
      "      10      10  776303  694252  889127  798699  668401  850897  873552\n",
      " 1215471  889043  621000  417990  527143]\n",
      "[[ 70000      2      2 ...,   2007   2000   2000]\n",
      " [130000      2      2 ...,   3500   3200   3300]\n",
      " [200000      2      3 ...,      0      0      0]\n",
      " ..., \n",
      " [ 80000      1      2 ...,      0      0   1820]\n",
      " [280000      2      1 ...,      0      0      0]\n",
      " [ 30000      2      2 ...,   1000   1720      0]]\n",
      "(10050, 23) (10050,)\n",
      "0.001\n",
      "0.01\n",
      "0.1\n",
      "0.2\n",
      "0.3\n",
      "1\n",
      "2\n",
      "5\n",
      "10\n",
      "100\n",
      "[2264, 2264, 2264, 2264, 2264, 2264, 2264, 2264, 2264, 2264] [0.77472636815920393, 0.77472636815920393, 0.77472636815920393, 0.77472636815920393, 0.77472636815920393, 0.77472636815920393, 0.77472636815920393, 0.77472636815920393, 0.77472636815920393, 0.77472636815920393]\n"
     ]
    }
   ],
   "source": [
    "# q6\n",
    "import math\n",
    "def standarization(X):\n",
    "    ave=np.sum(X,axis=0)\n",
    "#     print(ave)\n",
    "    n=X.shape[0]\n",
    "    normData = X - np.tile(ave,(n,1))\n",
    "#     print(normData.shape)\n",
    "    mins=X.min(0)\n",
    "    maxs=X.max(0)\n",
    "    diff=maxs-mins\n",
    "    print(diff)\n",
    "    normData = normData / np.tile(diff,(n,1))\n",
    "    return normData\n",
    "\n",
    "X_train_new=standarization(X_train)\n",
    "y_train_new=y_train\n",
    "X_vali_new=standarization(X_vali)\n",
    "print(X_vali)\n",
    "y_vali_new=y_vali\n",
    "print(X_train_new.shape,y_train_new.shape)\n",
    "c=[0.001,0.01,0.1,0.2,0.3,1,2,5,10,100]\n",
    "err=[]\n",
    "score=[]\n",
    "for i in c:\n",
    "    model_LR = LogisticRegression(C=i)\n",
    "    print(i)\n",
    "    model_LR.fit(X_train_new, y_train_new)\n",
    "    score.append(model_LR.score(X_vali_new,y_vali_new))\n",
    "    y_hat=model_LR.predict(X_vali_new)\n",
    "    err.append(np.sum((y_hat-y_vali_new)**2))\n",
    "print(err,score)\n",
    "\n",
    "\n"
   ]
  },
  {
   "cell_type": "code",
   "execution_count": 18,
   "metadata": {},
   "outputs": [
    {
     "name": "stdout",
     "output_type": "stream",
     "text": [
      "0.0001\n",
      "0.01\n",
      "0.1\n",
      "0.2\n",
      "0.3\n",
      "1\n",
      "2\n",
      "5\n",
      "10\n",
      "100\n",
      "[6932, 6932, 6932, 6932, 6932, 6932, 6932, 6932, 6932, 6932] [0.78118686868686871, 0.78118686868686871, 0.78118686868686871, 0.78118686868686871, 0.78118686868686871, 0.78118686868686871, 0.78118686868686871, 0.78118686868686871, 0.78118686868686871, 0.78118686868686871]\n"
     ]
    }
   ],
   "source": [
    "X_train_new2=X_train_new[:,20:23]\n",
    "y_train_new2=y_train_new\n",
    "y_train_new2[y_train_new2==0]=-1\n",
    "X_vali_new2=X_vali_new[:,20:23]\n",
    "y_vali_new2=y_vali_new\n",
    "y_vali_new2[y_vali_new2==0]=-1\n",
    "c=[0.0001,0.01,0.1,0.2,0.3,1,2,5,10,100]\n",
    "err=[]\n",
    "score=[]\n",
    "for i in c:\n",
    "    model_LR = LogisticRegression(C=i)\n",
    "    print(i)\n",
    "    model_LR.fit(X_train_new2, y_train_new2)\n",
    "    score.append(model_LR.score(X_vali_new2,y_vali_new2))\n",
    "    y_hat=model_LR.predict(X_vali_new2)\n",
    "    err.append(np.sum((y_hat-y_vali_new2)**2))\n",
    "print(err,score)\n",
    "\n",
    "\n"
   ]
  },
  {
   "cell_type": "code",
   "execution_count": 11,
   "metadata": {},
   "outputs": [
    {
     "name": "stdout",
     "output_type": "stream",
     "text": [
      "0.781186868687\n"
     ]
    }
   ],
   "source": [
    "from sklearn.neural_network import MLPClassifier\n",
    "nn = MLPClassifier(solver='lbfgs', activation='relu',alpha=10,hidden_layer_sizes=(50,50), random_state=1,max_iter=10,verbose=10,learning_rate_init=.01)\n",
    "nn.fit(X_train_new,y_train_new)\n",
    "print(nn.score(X_vali_new,y_vali_new))"
=======
   "execution_count": null,
   "metadata": {
    "collapsed": true
   },
   "outputs": [],
   "source": [
    "# YOUR CODE AND REPORT HERE, IN A SENSIBLE FORMAT"
>>>>>>> 114e3df9bcd4a1a568d2c32d292f3566c868a283
   ]
  },
  {
   "cell_type": "markdown",
   "metadata": {},
   "source": [
    "## Exercise 3: Very short answer questions\n",
    "rubric={reasoning:7}\n",
    "\n",
    "1. Why is it difficult for a standard collaborative filtering model to make good predictions for new items?\n",
    "2. Consider a fully connected neural network with layer sizes (10,20,20,5); that is, the input dimensionality is 10, there are two hidden layers each of size 20, and the output dimensionality is 5. How many parameters does the network have, including biases?\n",
    "3. Why do we need nonlinear activation functions in neural networks?\n",
    "4. Assuming we could globally minimize the neural network objectve, how does the depth of a neural network affect the fundamental trade-off?\n",
    "5. List 3 forms of regularization we use to prevent overfitting in neural networks.\n",
    "6. Assuming we could globally minimize the neural network objectve, how would the size of the filters in a convolutational neural network affect the fundamental trade-off?\n",
    "7. Why do people say convolutional neural networks just a special case of a fully-connected (regular) neural networks? What does this imply about the number of learned parameters?\n"
   ]
  },
  {
   "cell_type": "markdown",
   "metadata": {
    "collapsed": true
   },
   "source": [
    "_answer here_"
   ]
  }
 ],
 "metadata": {
  "anaconda-cloud": {},
  "kernelspec": {
<<<<<<< HEAD
   "display_name": "Python 3",
=======
   "display_name": "Python [default]",
>>>>>>> 114e3df9bcd4a1a568d2c32d292f3566c868a283
   "language": "python",
   "name": "python3"
  },
  "language_info": {
   "codemirror_mode": {
    "name": "ipython",
    "version": 3
   },
   "file_extension": ".py",
   "mimetype": "text/x-python",
   "name": "python",
   "nbconvert_exporter": "python",
   "pygments_lexer": "ipython3",
<<<<<<< HEAD
   "version": "3.6.3"
=======
   "version": "3.5.2"
>>>>>>> 114e3df9bcd4a1a568d2c32d292f3566c868a283
  }
 },
 "nbformat": 4,
 "nbformat_minor": 2
}
